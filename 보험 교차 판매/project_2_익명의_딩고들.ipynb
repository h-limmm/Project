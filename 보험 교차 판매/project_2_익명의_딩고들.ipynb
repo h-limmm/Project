{
  "nbformat": 4,
  "nbformat_minor": 0,
  "metadata": {
    "colab": {
      "provenance": [],
      "collapsed_sections": [
        "ckMYI1gYrp6o",
        "zu1Nmxun8GlS",
        "9-ro4AcM8n4G",
        "SEw9o1oO7PV8"
      ],
      "toc_visible": true
    },
    "kernelspec": {
      "name": "python3",
      "display_name": "Python 3"
    },
    "language_info": {
      "name": "python"
    },
    "accelerator": "GPU",
    "gpuClass": "standard"
  },
  "cells": [
    {
      "cell_type": "code",
      "source": [
        "# !pip install imbalanced-learn\n",
        "# !sudo apt-get install -y fonts-nanum\n",
        "# !sudo fc-cache -fv\n",
        "# !rm ~/.cache/matplotlib -rf #폰트 다운로드 한 후 런타임 다시시작\n",
        "# !pip install catboost"
      ],
      "metadata": {
        "id": "MRaMFedj-NQr"
      },
      "execution_count": 1,
      "outputs": []
    },
    {
      "cell_type": "code",
      "execution_count": 2,
      "metadata": {
        "id": "Y4GauJ6l5N_u"
      },
      "outputs": [],
      "source": [
        "# 경고(warning) 비표시\n",
        "import warnings\n",
        "warnings.filterwarnings('ignore')\n",
        "import numpy as np\n",
        "import pandas as pd\n",
        "import matplotlib.pyplot as plt\n",
        "import seaborn as sns\n",
        "sns.set(style='whitegrid')\n",
        "\n",
        "#한글폰트 나오게\n",
        "plt.rc('font', family='NanumBarunGothic')\n",
        "import matplotlib as mpl #음수 표기되게\n",
        "mpl.rc('axes', unicode_minus=False)\n",
        "\n",
        "from sklearn.preprocessing import LabelEncoder\n",
        "from sklearn.model_selection import train_test_split\n",
        "\n",
        "from sklearn.metrics import classification_report\n",
        "from sklearn.ensemble import AdaBoostClassifier\n",
        "from lightgbm import LGBMClassifier\n",
        "from xgboost import XGBClassifier\n",
        "from sklearn.neighbors import KNeighborsClassifier\n",
        "from sklearn.neural_network import MLPClassifier\n",
        "from sklearn.ensemble import RandomForestClassifier\n",
        "from sklearn.ensemble import GradientBoostingClassifier\n",
        "import catboost as cb\n",
        "\n",
        "from imblearn.over_sampling import SMOTE\n",
        "from imblearn.under_sampling import RandomUnderSampler\n",
        "\n",
        "from sklearn.metrics import roc_auc_score, auc, roc_curve, precision_score, recall_score, f1_score\n",
        "from sklearn.metrics import accuracy_score\n",
        "from sklearn.model_selection import cross_val_score\n",
        "\n",
        "from tqdm import tqdm\n",
        "from sklearn.model_selection import GridSearchCV\n",
        "from sklearn.model_selection import RandomizedSearchCV"
      ]
    },
    {
      "cell_type": "code",
      "source": [
        "df = pd.read_csv('/content/train.csv')\n",
        "df"
      ],
      "metadata": {
        "id": "D9TAhXTD5WBA",
        "colab": {
          "base_uri": "https://localhost:8080/",
          "height": 487
        },
        "outputId": "c508efab-515f-43d0-b423-9f9e7e6c9259"
      },
      "execution_count": 3,
      "outputs": [
        {
          "output_type": "execute_result",
          "data": {
            "text/plain": [
              "            id  Gender  Age  Driving_License  Region_Code  Previously_Insured  \\\n",
              "0            1    Male   44                1         28.0                   0   \n",
              "1            2    Male   76                1          3.0                   0   \n",
              "2            3    Male   47                1         28.0                   0   \n",
              "3            4    Male   21                1         11.0                   1   \n",
              "4            5  Female   29                1         41.0                   1   \n",
              "...        ...     ...  ...              ...          ...                 ...   \n",
              "381104  381105    Male   74                1         26.0                   1   \n",
              "381105  381106    Male   30                1         37.0                   1   \n",
              "381106  381107    Male   21                1         30.0                   1   \n",
              "381107  381108  Female   68                1         14.0                   0   \n",
              "381108  381109    Male   46                1         29.0                   0   \n",
              "\n",
              "       Vehicle_Age Vehicle_Damage  Annual_Premium  Policy_Sales_Channel  \\\n",
              "0        > 2 Years            Yes         40454.0                  26.0   \n",
              "1         1-2 Year             No         33536.0                  26.0   \n",
              "2        > 2 Years            Yes         38294.0                  26.0   \n",
              "3         < 1 Year             No         28619.0                 152.0   \n",
              "4         < 1 Year             No         27496.0                 152.0   \n",
              "...            ...            ...             ...                   ...   \n",
              "381104    1-2 Year             No         30170.0                  26.0   \n",
              "381105    < 1 Year             No         40016.0                 152.0   \n",
              "381106    < 1 Year             No         35118.0                 160.0   \n",
              "381107   > 2 Years            Yes         44617.0                 124.0   \n",
              "381108    1-2 Year             No         41777.0                  26.0   \n",
              "\n",
              "        Vintage  Response  \n",
              "0           217         1  \n",
              "1           183         0  \n",
              "2            27         1  \n",
              "3           203         0  \n",
              "4            39         0  \n",
              "...         ...       ...  \n",
              "381104       88         0  \n",
              "381105      131         0  \n",
              "381106      161         0  \n",
              "381107       74         0  \n",
              "381108      237         0  \n",
              "\n",
              "[381109 rows x 12 columns]"
            ],
            "text/html": [
              "\n",
              "  <div id=\"df-d6b4d385-9297-4e62-b9b0-42d10f138f1c\">\n",
              "    <div class=\"colab-df-container\">\n",
              "      <div>\n",
              "<style scoped>\n",
              "    .dataframe tbody tr th:only-of-type {\n",
              "        vertical-align: middle;\n",
              "    }\n",
              "\n",
              "    .dataframe tbody tr th {\n",
              "        vertical-align: top;\n",
              "    }\n",
              "\n",
              "    .dataframe thead th {\n",
              "        text-align: right;\n",
              "    }\n",
              "</style>\n",
              "<table border=\"1\" class=\"dataframe\">\n",
              "  <thead>\n",
              "    <tr style=\"text-align: right;\">\n",
              "      <th></th>\n",
              "      <th>id</th>\n",
              "      <th>Gender</th>\n",
              "      <th>Age</th>\n",
              "      <th>Driving_License</th>\n",
              "      <th>Region_Code</th>\n",
              "      <th>Previously_Insured</th>\n",
              "      <th>Vehicle_Age</th>\n",
              "      <th>Vehicle_Damage</th>\n",
              "      <th>Annual_Premium</th>\n",
              "      <th>Policy_Sales_Channel</th>\n",
              "      <th>Vintage</th>\n",
              "      <th>Response</th>\n",
              "    </tr>\n",
              "  </thead>\n",
              "  <tbody>\n",
              "    <tr>\n",
              "      <th>0</th>\n",
              "      <td>1</td>\n",
              "      <td>Male</td>\n",
              "      <td>44</td>\n",
              "      <td>1</td>\n",
              "      <td>28.0</td>\n",
              "      <td>0</td>\n",
              "      <td>&gt; 2 Years</td>\n",
              "      <td>Yes</td>\n",
              "      <td>40454.0</td>\n",
              "      <td>26.0</td>\n",
              "      <td>217</td>\n",
              "      <td>1</td>\n",
              "    </tr>\n",
              "    <tr>\n",
              "      <th>1</th>\n",
              "      <td>2</td>\n",
              "      <td>Male</td>\n",
              "      <td>76</td>\n",
              "      <td>1</td>\n",
              "      <td>3.0</td>\n",
              "      <td>0</td>\n",
              "      <td>1-2 Year</td>\n",
              "      <td>No</td>\n",
              "      <td>33536.0</td>\n",
              "      <td>26.0</td>\n",
              "      <td>183</td>\n",
              "      <td>0</td>\n",
              "    </tr>\n",
              "    <tr>\n",
              "      <th>2</th>\n",
              "      <td>3</td>\n",
              "      <td>Male</td>\n",
              "      <td>47</td>\n",
              "      <td>1</td>\n",
              "      <td>28.0</td>\n",
              "      <td>0</td>\n",
              "      <td>&gt; 2 Years</td>\n",
              "      <td>Yes</td>\n",
              "      <td>38294.0</td>\n",
              "      <td>26.0</td>\n",
              "      <td>27</td>\n",
              "      <td>1</td>\n",
              "    </tr>\n",
              "    <tr>\n",
              "      <th>3</th>\n",
              "      <td>4</td>\n",
              "      <td>Male</td>\n",
              "      <td>21</td>\n",
              "      <td>1</td>\n",
              "      <td>11.0</td>\n",
              "      <td>1</td>\n",
              "      <td>&lt; 1 Year</td>\n",
              "      <td>No</td>\n",
              "      <td>28619.0</td>\n",
              "      <td>152.0</td>\n",
              "      <td>203</td>\n",
              "      <td>0</td>\n",
              "    </tr>\n",
              "    <tr>\n",
              "      <th>4</th>\n",
              "      <td>5</td>\n",
              "      <td>Female</td>\n",
              "      <td>29</td>\n",
              "      <td>1</td>\n",
              "      <td>41.0</td>\n",
              "      <td>1</td>\n",
              "      <td>&lt; 1 Year</td>\n",
              "      <td>No</td>\n",
              "      <td>27496.0</td>\n",
              "      <td>152.0</td>\n",
              "      <td>39</td>\n",
              "      <td>0</td>\n",
              "    </tr>\n",
              "    <tr>\n",
              "      <th>...</th>\n",
              "      <td>...</td>\n",
              "      <td>...</td>\n",
              "      <td>...</td>\n",
              "      <td>...</td>\n",
              "      <td>...</td>\n",
              "      <td>...</td>\n",
              "      <td>...</td>\n",
              "      <td>...</td>\n",
              "      <td>...</td>\n",
              "      <td>...</td>\n",
              "      <td>...</td>\n",
              "      <td>...</td>\n",
              "    </tr>\n",
              "    <tr>\n",
              "      <th>381104</th>\n",
              "      <td>381105</td>\n",
              "      <td>Male</td>\n",
              "      <td>74</td>\n",
              "      <td>1</td>\n",
              "      <td>26.0</td>\n",
              "      <td>1</td>\n",
              "      <td>1-2 Year</td>\n",
              "      <td>No</td>\n",
              "      <td>30170.0</td>\n",
              "      <td>26.0</td>\n",
              "      <td>88</td>\n",
              "      <td>0</td>\n",
              "    </tr>\n",
              "    <tr>\n",
              "      <th>381105</th>\n",
              "      <td>381106</td>\n",
              "      <td>Male</td>\n",
              "      <td>30</td>\n",
              "      <td>1</td>\n",
              "      <td>37.0</td>\n",
              "      <td>1</td>\n",
              "      <td>&lt; 1 Year</td>\n",
              "      <td>No</td>\n",
              "      <td>40016.0</td>\n",
              "      <td>152.0</td>\n",
              "      <td>131</td>\n",
              "      <td>0</td>\n",
              "    </tr>\n",
              "    <tr>\n",
              "      <th>381106</th>\n",
              "      <td>381107</td>\n",
              "      <td>Male</td>\n",
              "      <td>21</td>\n",
              "      <td>1</td>\n",
              "      <td>30.0</td>\n",
              "      <td>1</td>\n",
              "      <td>&lt; 1 Year</td>\n",
              "      <td>No</td>\n",
              "      <td>35118.0</td>\n",
              "      <td>160.0</td>\n",
              "      <td>161</td>\n",
              "      <td>0</td>\n",
              "    </tr>\n",
              "    <tr>\n",
              "      <th>381107</th>\n",
              "      <td>381108</td>\n",
              "      <td>Female</td>\n",
              "      <td>68</td>\n",
              "      <td>1</td>\n",
              "      <td>14.0</td>\n",
              "      <td>0</td>\n",
              "      <td>&gt; 2 Years</td>\n",
              "      <td>Yes</td>\n",
              "      <td>44617.0</td>\n",
              "      <td>124.0</td>\n",
              "      <td>74</td>\n",
              "      <td>0</td>\n",
              "    </tr>\n",
              "    <tr>\n",
              "      <th>381108</th>\n",
              "      <td>381109</td>\n",
              "      <td>Male</td>\n",
              "      <td>46</td>\n",
              "      <td>1</td>\n",
              "      <td>29.0</td>\n",
              "      <td>0</td>\n",
              "      <td>1-2 Year</td>\n",
              "      <td>No</td>\n",
              "      <td>41777.0</td>\n",
              "      <td>26.0</td>\n",
              "      <td>237</td>\n",
              "      <td>0</td>\n",
              "    </tr>\n",
              "  </tbody>\n",
              "</table>\n",
              "<p>381109 rows × 12 columns</p>\n",
              "</div>\n",
              "      <button class=\"colab-df-convert\" onclick=\"convertToInteractive('df-d6b4d385-9297-4e62-b9b0-42d10f138f1c')\"\n",
              "              title=\"Convert this dataframe to an interactive table.\"\n",
              "              style=\"display:none;\">\n",
              "        \n",
              "  <svg xmlns=\"http://www.w3.org/2000/svg\" height=\"24px\"viewBox=\"0 0 24 24\"\n",
              "       width=\"24px\">\n",
              "    <path d=\"M0 0h24v24H0V0z\" fill=\"none\"/>\n",
              "    <path d=\"M18.56 5.44l.94 2.06.94-2.06 2.06-.94-2.06-.94-.94-2.06-.94 2.06-2.06.94zm-11 1L8.5 8.5l.94-2.06 2.06-.94-2.06-.94L8.5 2.5l-.94 2.06-2.06.94zm10 10l.94 2.06.94-2.06 2.06-.94-2.06-.94-.94-2.06-.94 2.06-2.06.94z\"/><path d=\"M17.41 7.96l-1.37-1.37c-.4-.4-.92-.59-1.43-.59-.52 0-1.04.2-1.43.59L10.3 9.45l-7.72 7.72c-.78.78-.78 2.05 0 2.83L4 21.41c.39.39.9.59 1.41.59.51 0 1.02-.2 1.41-.59l7.78-7.78 2.81-2.81c.8-.78.8-2.07 0-2.86zM5.41 20L4 18.59l7.72-7.72 1.47 1.35L5.41 20z\"/>\n",
              "  </svg>\n",
              "      </button>\n",
              "      \n",
              "  <style>\n",
              "    .colab-df-container {\n",
              "      display:flex;\n",
              "      flex-wrap:wrap;\n",
              "      gap: 12px;\n",
              "    }\n",
              "\n",
              "    .colab-df-convert {\n",
              "      background-color: #E8F0FE;\n",
              "      border: none;\n",
              "      border-radius: 50%;\n",
              "      cursor: pointer;\n",
              "      display: none;\n",
              "      fill: #1967D2;\n",
              "      height: 32px;\n",
              "      padding: 0 0 0 0;\n",
              "      width: 32px;\n",
              "    }\n",
              "\n",
              "    .colab-df-convert:hover {\n",
              "      background-color: #E2EBFA;\n",
              "      box-shadow: 0px 1px 2px rgba(60, 64, 67, 0.3), 0px 1px 3px 1px rgba(60, 64, 67, 0.15);\n",
              "      fill: #174EA6;\n",
              "    }\n",
              "\n",
              "    [theme=dark] .colab-df-convert {\n",
              "      background-color: #3B4455;\n",
              "      fill: #D2E3FC;\n",
              "    }\n",
              "\n",
              "    [theme=dark] .colab-df-convert:hover {\n",
              "      background-color: #434B5C;\n",
              "      box-shadow: 0px 1px 3px 1px rgba(0, 0, 0, 0.15);\n",
              "      filter: drop-shadow(0px 1px 2px rgba(0, 0, 0, 0.3));\n",
              "      fill: #FFFFFF;\n",
              "    }\n",
              "  </style>\n",
              "\n",
              "      <script>\n",
              "        const buttonEl =\n",
              "          document.querySelector('#df-d6b4d385-9297-4e62-b9b0-42d10f138f1c button.colab-df-convert');\n",
              "        buttonEl.style.display =\n",
              "          google.colab.kernel.accessAllowed ? 'block' : 'none';\n",
              "\n",
              "        async function convertToInteractive(key) {\n",
              "          const element = document.querySelector('#df-d6b4d385-9297-4e62-b9b0-42d10f138f1c');\n",
              "          const dataTable =\n",
              "            await google.colab.kernel.invokeFunction('convertToInteractive',\n",
              "                                                     [key], {});\n",
              "          if (!dataTable) return;\n",
              "\n",
              "          const docLinkHtml = 'Like what you see? Visit the ' +\n",
              "            '<a target=\"_blank\" href=https://colab.research.google.com/notebooks/data_table.ipynb>data table notebook</a>'\n",
              "            + ' to learn more about interactive tables.';\n",
              "          element.innerHTML = '';\n",
              "          dataTable['output_type'] = 'display_data';\n",
              "          await google.colab.output.renderOutput(dataTable, element);\n",
              "          const docLink = document.createElement('div');\n",
              "          docLink.innerHTML = docLinkHtml;\n",
              "          element.appendChild(docLink);\n",
              "        }\n",
              "      </script>\n",
              "    </div>\n",
              "  </div>\n",
              "  "
            ]
          },
          "metadata": {},
          "execution_count": 3
        }
      ]
    },
    {
      "cell_type": "markdown",
      "source": [
        "# Encoding\n",
        "\n",
        "Gender, Vehicle_Age, Vehicle_Damage => 인코딩\n",
        "\n",
        "Region_Code, Annual_Premium, Policy_Sales_Channel => float-> int\n"
      ],
      "metadata": {
        "id": "ckMYI1gYrp6o"
      }
    },
    {
      "cell_type": "code",
      "source": [
        "encoder = LabelEncoder()\n",
        "encoder.fit(df['Gender'])\n",
        "df['Gender_Label_En'] = encoder.transform(df['Gender'])\n",
        "df['Region_Code_re'] = df['Region_Code'].astype(int)\n",
        "encoder.fit(df['Vehicle_Age'])\n",
        "df['Vehicle_Age_Label_En'] = encoder.transform(df['Vehicle_Age'])\n",
        "encoder.fit(df['Vehicle_Damage'])\n",
        "df['Vehicle_Damage_Label_En'] = encoder.transform(df['Vehicle_Damage'])\n",
        "df['Annual_Premium_re'] = df['Annual_Premium'].astype(int)\n",
        "df['Policy_Sales_Channel_re'] = df['Policy_Sales_Channel'].astype(int)\n",
        "df.info()"
      ],
      "metadata": {
        "id": "a0rZ9vj2rr_S",
        "colab": {
          "base_uri": "https://localhost:8080/"
        },
        "outputId": "5458b494-aef1-4e1e-a84f-26034442350b"
      },
      "execution_count": 4,
      "outputs": [
        {
          "output_type": "stream",
          "name": "stdout",
          "text": [
            "<class 'pandas.core.frame.DataFrame'>\n",
            "RangeIndex: 381109 entries, 0 to 381108\n",
            "Data columns (total 18 columns):\n",
            " #   Column                   Non-Null Count   Dtype  \n",
            "---  ------                   --------------   -----  \n",
            " 0   id                       381109 non-null  int64  \n",
            " 1   Gender                   381109 non-null  object \n",
            " 2   Age                      381109 non-null  int64  \n",
            " 3   Driving_License          381109 non-null  int64  \n",
            " 4   Region_Code              381109 non-null  float64\n",
            " 5   Previously_Insured       381109 non-null  int64  \n",
            " 6   Vehicle_Age              381109 non-null  object \n",
            " 7   Vehicle_Damage           381109 non-null  object \n",
            " 8   Annual_Premium           381109 non-null  float64\n",
            " 9   Policy_Sales_Channel     381109 non-null  float64\n",
            " 10  Vintage                  381109 non-null  int64  \n",
            " 11  Response                 381109 non-null  int64  \n",
            " 12  Gender_Label_En          381109 non-null  int64  \n",
            " 13  Region_Code_re           381109 non-null  int64  \n",
            " 14  Vehicle_Age_Label_En     381109 non-null  int64  \n",
            " 15  Vehicle_Damage_Label_En  381109 non-null  int64  \n",
            " 16  Annual_Premium_re        381109 non-null  int64  \n",
            " 17  Policy_Sales_Channel_re  381109 non-null  int64  \n",
            "dtypes: float64(3), int64(12), object(3)\n",
            "memory usage: 52.3+ MB\n"
          ]
        }
      ]
    },
    {
      "cell_type": "code",
      "source": [],
      "metadata": {
        "id": "7Tn79EHkyVjg"
      },
      "execution_count": 4,
      "outputs": []
    },
    {
      "cell_type": "code",
      "source": [
        "df.head()"
      ],
      "metadata": {
        "id": "FvQo7XUHrr74",
        "colab": {
          "base_uri": "https://localhost:8080/",
          "height": 270
        },
        "outputId": "072b25a1-5935-4015-bd3d-ffcd2a938131"
      },
      "execution_count": 5,
      "outputs": [
        {
          "output_type": "execute_result",
          "data": {
            "text/plain": [
              "   id  Gender  Age  Driving_License  Region_Code  Previously_Insured  \\\n",
              "0   1    Male   44                1         28.0                   0   \n",
              "1   2    Male   76                1          3.0                   0   \n",
              "2   3    Male   47                1         28.0                   0   \n",
              "3   4    Male   21                1         11.0                   1   \n",
              "4   5  Female   29                1         41.0                   1   \n",
              "\n",
              "  Vehicle_Age Vehicle_Damage  Annual_Premium  Policy_Sales_Channel  Vintage  \\\n",
              "0   > 2 Years            Yes         40454.0                  26.0      217   \n",
              "1    1-2 Year             No         33536.0                  26.0      183   \n",
              "2   > 2 Years            Yes         38294.0                  26.0       27   \n",
              "3    < 1 Year             No         28619.0                 152.0      203   \n",
              "4    < 1 Year             No         27496.0                 152.0       39   \n",
              "\n",
              "   Response  Gender_Label_En  Region_Code_re  Vehicle_Age_Label_En  \\\n",
              "0         1                1              28                     2   \n",
              "1         0                1               3                     0   \n",
              "2         1                1              28                     2   \n",
              "3         0                1              11                     1   \n",
              "4         0                0              41                     1   \n",
              "\n",
              "   Vehicle_Damage_Label_En  Annual_Premium_re  Policy_Sales_Channel_re  \n",
              "0                        1              40454                       26  \n",
              "1                        0              33536                       26  \n",
              "2                        1              38294                       26  \n",
              "3                        0              28619                      152  \n",
              "4                        0              27496                      152  "
            ],
            "text/html": [
              "\n",
              "  <div id=\"df-7d0dfb57-e486-462a-a995-ee97a685283d\">\n",
              "    <div class=\"colab-df-container\">\n",
              "      <div>\n",
              "<style scoped>\n",
              "    .dataframe tbody tr th:only-of-type {\n",
              "        vertical-align: middle;\n",
              "    }\n",
              "\n",
              "    .dataframe tbody tr th {\n",
              "        vertical-align: top;\n",
              "    }\n",
              "\n",
              "    .dataframe thead th {\n",
              "        text-align: right;\n",
              "    }\n",
              "</style>\n",
              "<table border=\"1\" class=\"dataframe\">\n",
              "  <thead>\n",
              "    <tr style=\"text-align: right;\">\n",
              "      <th></th>\n",
              "      <th>id</th>\n",
              "      <th>Gender</th>\n",
              "      <th>Age</th>\n",
              "      <th>Driving_License</th>\n",
              "      <th>Region_Code</th>\n",
              "      <th>Previously_Insured</th>\n",
              "      <th>Vehicle_Age</th>\n",
              "      <th>Vehicle_Damage</th>\n",
              "      <th>Annual_Premium</th>\n",
              "      <th>Policy_Sales_Channel</th>\n",
              "      <th>Vintage</th>\n",
              "      <th>Response</th>\n",
              "      <th>Gender_Label_En</th>\n",
              "      <th>Region_Code_re</th>\n",
              "      <th>Vehicle_Age_Label_En</th>\n",
              "      <th>Vehicle_Damage_Label_En</th>\n",
              "      <th>Annual_Premium_re</th>\n",
              "      <th>Policy_Sales_Channel_re</th>\n",
              "    </tr>\n",
              "  </thead>\n",
              "  <tbody>\n",
              "    <tr>\n",
              "      <th>0</th>\n",
              "      <td>1</td>\n",
              "      <td>Male</td>\n",
              "      <td>44</td>\n",
              "      <td>1</td>\n",
              "      <td>28.0</td>\n",
              "      <td>0</td>\n",
              "      <td>&gt; 2 Years</td>\n",
              "      <td>Yes</td>\n",
              "      <td>40454.0</td>\n",
              "      <td>26.0</td>\n",
              "      <td>217</td>\n",
              "      <td>1</td>\n",
              "      <td>1</td>\n",
              "      <td>28</td>\n",
              "      <td>2</td>\n",
              "      <td>1</td>\n",
              "      <td>40454</td>\n",
              "      <td>26</td>\n",
              "    </tr>\n",
              "    <tr>\n",
              "      <th>1</th>\n",
              "      <td>2</td>\n",
              "      <td>Male</td>\n",
              "      <td>76</td>\n",
              "      <td>1</td>\n",
              "      <td>3.0</td>\n",
              "      <td>0</td>\n",
              "      <td>1-2 Year</td>\n",
              "      <td>No</td>\n",
              "      <td>33536.0</td>\n",
              "      <td>26.0</td>\n",
              "      <td>183</td>\n",
              "      <td>0</td>\n",
              "      <td>1</td>\n",
              "      <td>3</td>\n",
              "      <td>0</td>\n",
              "      <td>0</td>\n",
              "      <td>33536</td>\n",
              "      <td>26</td>\n",
              "    </tr>\n",
              "    <tr>\n",
              "      <th>2</th>\n",
              "      <td>3</td>\n",
              "      <td>Male</td>\n",
              "      <td>47</td>\n",
              "      <td>1</td>\n",
              "      <td>28.0</td>\n",
              "      <td>0</td>\n",
              "      <td>&gt; 2 Years</td>\n",
              "      <td>Yes</td>\n",
              "      <td>38294.0</td>\n",
              "      <td>26.0</td>\n",
              "      <td>27</td>\n",
              "      <td>1</td>\n",
              "      <td>1</td>\n",
              "      <td>28</td>\n",
              "      <td>2</td>\n",
              "      <td>1</td>\n",
              "      <td>38294</td>\n",
              "      <td>26</td>\n",
              "    </tr>\n",
              "    <tr>\n",
              "      <th>3</th>\n",
              "      <td>4</td>\n",
              "      <td>Male</td>\n",
              "      <td>21</td>\n",
              "      <td>1</td>\n",
              "      <td>11.0</td>\n",
              "      <td>1</td>\n",
              "      <td>&lt; 1 Year</td>\n",
              "      <td>No</td>\n",
              "      <td>28619.0</td>\n",
              "      <td>152.0</td>\n",
              "      <td>203</td>\n",
              "      <td>0</td>\n",
              "      <td>1</td>\n",
              "      <td>11</td>\n",
              "      <td>1</td>\n",
              "      <td>0</td>\n",
              "      <td>28619</td>\n",
              "      <td>152</td>\n",
              "    </tr>\n",
              "    <tr>\n",
              "      <th>4</th>\n",
              "      <td>5</td>\n",
              "      <td>Female</td>\n",
              "      <td>29</td>\n",
              "      <td>1</td>\n",
              "      <td>41.0</td>\n",
              "      <td>1</td>\n",
              "      <td>&lt; 1 Year</td>\n",
              "      <td>No</td>\n",
              "      <td>27496.0</td>\n",
              "      <td>152.0</td>\n",
              "      <td>39</td>\n",
              "      <td>0</td>\n",
              "      <td>0</td>\n",
              "      <td>41</td>\n",
              "      <td>1</td>\n",
              "      <td>0</td>\n",
              "      <td>27496</td>\n",
              "      <td>152</td>\n",
              "    </tr>\n",
              "  </tbody>\n",
              "</table>\n",
              "</div>\n",
              "      <button class=\"colab-df-convert\" onclick=\"convertToInteractive('df-7d0dfb57-e486-462a-a995-ee97a685283d')\"\n",
              "              title=\"Convert this dataframe to an interactive table.\"\n",
              "              style=\"display:none;\">\n",
              "        \n",
              "  <svg xmlns=\"http://www.w3.org/2000/svg\" height=\"24px\"viewBox=\"0 0 24 24\"\n",
              "       width=\"24px\">\n",
              "    <path d=\"M0 0h24v24H0V0z\" fill=\"none\"/>\n",
              "    <path d=\"M18.56 5.44l.94 2.06.94-2.06 2.06-.94-2.06-.94-.94-2.06-.94 2.06-2.06.94zm-11 1L8.5 8.5l.94-2.06 2.06-.94-2.06-.94L8.5 2.5l-.94 2.06-2.06.94zm10 10l.94 2.06.94-2.06 2.06-.94-2.06-.94-.94-2.06-.94 2.06-2.06.94z\"/><path d=\"M17.41 7.96l-1.37-1.37c-.4-.4-.92-.59-1.43-.59-.52 0-1.04.2-1.43.59L10.3 9.45l-7.72 7.72c-.78.78-.78 2.05 0 2.83L4 21.41c.39.39.9.59 1.41.59.51 0 1.02-.2 1.41-.59l7.78-7.78 2.81-2.81c.8-.78.8-2.07 0-2.86zM5.41 20L4 18.59l7.72-7.72 1.47 1.35L5.41 20z\"/>\n",
              "  </svg>\n",
              "      </button>\n",
              "      \n",
              "  <style>\n",
              "    .colab-df-container {\n",
              "      display:flex;\n",
              "      flex-wrap:wrap;\n",
              "      gap: 12px;\n",
              "    }\n",
              "\n",
              "    .colab-df-convert {\n",
              "      background-color: #E8F0FE;\n",
              "      border: none;\n",
              "      border-radius: 50%;\n",
              "      cursor: pointer;\n",
              "      display: none;\n",
              "      fill: #1967D2;\n",
              "      height: 32px;\n",
              "      padding: 0 0 0 0;\n",
              "      width: 32px;\n",
              "    }\n",
              "\n",
              "    .colab-df-convert:hover {\n",
              "      background-color: #E2EBFA;\n",
              "      box-shadow: 0px 1px 2px rgba(60, 64, 67, 0.3), 0px 1px 3px 1px rgba(60, 64, 67, 0.15);\n",
              "      fill: #174EA6;\n",
              "    }\n",
              "\n",
              "    [theme=dark] .colab-df-convert {\n",
              "      background-color: #3B4455;\n",
              "      fill: #D2E3FC;\n",
              "    }\n",
              "\n",
              "    [theme=dark] .colab-df-convert:hover {\n",
              "      background-color: #434B5C;\n",
              "      box-shadow: 0px 1px 3px 1px rgba(0, 0, 0, 0.15);\n",
              "      filter: drop-shadow(0px 1px 2px rgba(0, 0, 0, 0.3));\n",
              "      fill: #FFFFFF;\n",
              "    }\n",
              "  </style>\n",
              "\n",
              "      <script>\n",
              "        const buttonEl =\n",
              "          document.querySelector('#df-7d0dfb57-e486-462a-a995-ee97a685283d button.colab-df-convert');\n",
              "        buttonEl.style.display =\n",
              "          google.colab.kernel.accessAllowed ? 'block' : 'none';\n",
              "\n",
              "        async function convertToInteractive(key) {\n",
              "          const element = document.querySelector('#df-7d0dfb57-e486-462a-a995-ee97a685283d');\n",
              "          const dataTable =\n",
              "            await google.colab.kernel.invokeFunction('convertToInteractive',\n",
              "                                                     [key], {});\n",
              "          if (!dataTable) return;\n",
              "\n",
              "          const docLinkHtml = 'Like what you see? Visit the ' +\n",
              "            '<a target=\"_blank\" href=https://colab.research.google.com/notebooks/data_table.ipynb>data table notebook</a>'\n",
              "            + ' to learn more about interactive tables.';\n",
              "          element.innerHTML = '';\n",
              "          dataTable['output_type'] = 'display_data';\n",
              "          await google.colab.output.renderOutput(dataTable, element);\n",
              "          const docLink = document.createElement('div');\n",
              "          docLink.innerHTML = docLinkHtml;\n",
              "          element.appendChild(docLink);\n",
              "        }\n",
              "      </script>\n",
              "    </div>\n",
              "  </div>\n",
              "  "
            ]
          },
          "metadata": {},
          "execution_count": 5
        }
      ]
    },
    {
      "cell_type": "code",
      "source": [
        "df.columns"
      ],
      "metadata": {
        "id": "52ctmy1fuNLY",
        "colab": {
          "base_uri": "https://localhost:8080/"
        },
        "outputId": "21428326-bb2e-4c71-c91e-59d7b39feceb"
      },
      "execution_count": 6,
      "outputs": [
        {
          "output_type": "execute_result",
          "data": {
            "text/plain": [
              "Index(['id', 'Gender', 'Age', 'Driving_License', 'Region_Code',\n",
              "       'Previously_Insured', 'Vehicle_Age', 'Vehicle_Damage', 'Annual_Premium',\n",
              "       'Policy_Sales_Channel', 'Vintage', 'Response', 'Gender_Label_En',\n",
              "       'Region_Code_re', 'Vehicle_Age_Label_En', 'Vehicle_Damage_Label_En',\n",
              "       'Annual_Premium_re', 'Policy_Sales_Channel_re'],\n",
              "      dtype='object')"
            ]
          },
          "metadata": {},
          "execution_count": 6
        }
      ]
    },
    {
      "cell_type": "code",
      "source": [
        "X_data = df[['Gender_Label_En', 'Driving_License', 'Region_Code_re',\n",
        "       'Previously_Insured', 'Vehicle_Age_Label_En', 'Vehicle_Damage_Label_En', 'Annual_Premium_re',\n",
        "       'Policy_Sales_Channel_re', 'Vintage']]\n",
        "y = df['Response']"
      ],
      "metadata": {
        "id": "67l_2NEVujiR"
      },
      "execution_count": 7,
      "outputs": []
    },
    {
      "cell_type": "code",
      "source": [
        "X_data.shape, y.shape"
      ],
      "metadata": {
        "id": "VE9WCNpe9_aI",
        "colab": {
          "base_uri": "https://localhost:8080/"
        },
        "outputId": "ea6a297b-1e9b-4901-cd33-1ad5de1dfe99"
      },
      "execution_count": 8,
      "outputs": [
        {
          "output_type": "execute_result",
          "data": {
            "text/plain": [
              "((381109, 9), (381109,))"
            ]
          },
          "metadata": {},
          "execution_count": 8
        }
      ]
    },
    {
      "cell_type": "markdown",
      "source": [
        "# Feature Engineering Age_GP_s\n",
        "Age는 20대, 30대, 40대, 그이상 으로 범주화"
      ],
      "metadata": {
        "id": "zu1Nmxun8GlS"
      }
    },
    {
      "cell_type": "markdown",
      "source": [
        "## age 범주화\n",
        "\n",
        "Age_GP_q  = 사분위로 나눔 \n",
        "\n",
        "Age_GP_s  = 연령대로 나눔\n"
      ],
      "metadata": {
        "id": "wCEVPsD2B5RI"
      }
    },
    {
      "cell_type": "code",
      "source": [
        "# X_data['Age_GP_q'] = np.where (df['Age'] < 25, 1, \n",
        "#                            np.where(df['Age'] < 36, 2,\n",
        "#                            np.where(df['Age'] < 49, 3, 4)))\n",
        "# X_data.Age_GP_q.value_counts(), sorted(X_data.Age_GP_q.unique()), len(X_data.Age_GP_q.unique())"
      ],
      "metadata": {
        "id": "9256zgus-QgB"
      },
      "execution_count": 9,
      "outputs": []
    },
    {
      "cell_type": "code",
      "source": [
        "# sns.countplot(x=y, hue=X_data['Age_GP_q'], data=X_data, dodge=True, palette=\"pastel\");\n",
        "# plt.legend(labels = ['25미만', '36미만', '49미만', '49이상']);"
      ],
      "metadata": {
        "id": "q-YNzjD-b8vK"
      },
      "execution_count": 10,
      "outputs": []
    },
    {
      "cell_type": "code",
      "source": [
        "X_data['Age_GP_s'] = np.where (df['Age'] < 30, 1, \n",
        "                           np.where(df['Age'] < 40, 2,\n",
        "                           np.where(df['Age'] < 50, 3, 4)))\n",
        "X_data.Age_GP_s.value_counts(), sorted(X_data.Age_GP_s.unique()), len(X_data.Age_GP_s.unique())"
      ],
      "metadata": {
        "id": "uhpRDtPu-s9r",
        "colab": {
          "base_uri": "https://localhost:8080/"
        },
        "outputId": "674f7dfa-6ec5-49ed-b95b-b1b6eb7b958a"
      },
      "execution_count": 11,
      "outputs": [
        {
          "output_type": "execute_result",
          "data": {
            "text/plain": [
              "(1    155203\n",
              " 4     94807\n",
              " 3     76846\n",
              " 2     54253\n",
              " Name: Age_GP_s, dtype: int64, [1, 2, 3, 4], 4)"
            ]
          },
          "metadata": {},
          "execution_count": 11
        }
      ]
    },
    {
      "cell_type": "code",
      "source": [
        "sns.countplot(x=y, hue=X_data['Age_GP_s'], data=X_data, dodge=True, palette=\"pastel\");\n",
        "plt.legend(labels = ['20대', '30대', '40대', '50대이상']);"
      ],
      "metadata": {
        "id": "kvRZluHSxfV7",
        "colab": {
          "base_uri": "https://localhost:8080/",
          "height": 286
        },
        "outputId": "801ff6d2-fa0a-4778-f6e9-c4bbb56f0bd0"
      },
      "execution_count": 12,
      "outputs": [
        {
          "output_type": "display_data",
          "data": {
            "text/plain": [
              "<Figure size 432x288 with 1 Axes>"
            ],
            "image/png": "[encoded data removed]"
          },
          "metadata": {}
        }
      ]
    },
    {
      "cell_type": "code",
      "source": [],
      "metadata": {
        "id": "RTgp-hTw_0yN"
      },
      "execution_count": 12,
      "outputs": []
    },
    {
      "cell_type": "markdown",
      "source": [
        "### Age + Previously_Insured"
      ],
      "metadata": {
        "id": "B4Tiz1_v8GlT"
      }
    },
    {
      "cell_type": "code",
      "source": [
        "X_data['age_PI'] = np.where ((X_data['Age_GP_s'] == 1) & (X_data['Previously_Insured'] == 0), 1,\n",
        "                           np.where((X_data['Age_GP_s'] == 2) & (X_data['Previously_Insured'] == 0), 2, \n",
        "                           np.where((X_data['Age_GP_s'] == 3) & (X_data['Previously_Insured'] == 0), 3, \n",
        "                           np.where((X_data['Age_GP_s'] == 4) & (X_data['Previously_Insured'] == 0), 4, 5))))\n",
        "                           \n",
        "X_data['age_PI'].value_counts()"
      ],
      "metadata": {
        "id": "voe5fQ7g8GlT",
        "colab": {
          "base_uri": "https://localhost:8080/"
        },
        "outputId": "08973b8d-976b-4ccd-a5d6-0abe23e38180"
      },
      "execution_count": 13,
      "outputs": [
        {
          "output_type": "execute_result",
          "data": {
            "text/plain": [
              "5    174628\n",
              "4     63595\n",
              "3     55887\n",
              "1     53124\n",
              "2     33875\n",
              "Name: age_PI, dtype: int64"
            ]
          },
          "metadata": {},
          "execution_count": 13
        }
      ]
    },
    {
      "cell_type": "code",
      "source": [
        "# response 0 = 관심x \n",
        "fig, ax = plt.subplots(figsize=(20,7))\n",
        "sns.countplot(x=y, hue=X_data['age_PI'], data=X_data, ax=ax, palette=\"pastel\");\n",
        "plt.legend(labels = ['20대+보험없음', '30대+보험없음', '40대+보험없음', '50대이상+보험없음', '보험있음']);"
      ],
      "metadata": {
        "id": "6XdoGkeA8GlT",
        "colab": {
          "base_uri": "https://localhost:8080/",
          "height": 449
        },
        "outputId": "b0bfba03-bba9-49c0-ec95-f6da2a85baa9"
      },
      "execution_count": 14,
      "outputs": [
        {
          "output_type": "display_data",
          "data": {
            "text/plain": [
              "<Figure size 1440x504 with 1 Axes>"
            ],
            "image/png": "[encoded data removed]"
          },
          "metadata": {}
        }
      ]
    },
    {
      "cell_type": "markdown",
      "source": [
        "### Age + Vehicle_Damage"
      ],
      "metadata": {
        "id": "s3R0lxLq8GlT"
      }
    },
    {
      "cell_type": "code",
      "source": [
        "# Vehicle_Damage_Label_En = 0 -> 사고 o\n",
        "X_data['age_VD'] = np.where ((X_data['Age_GP_s'] == 1) & (X_data['Vehicle_Damage_Label_En'] == 1), 1,\n",
        "                           np.where((X_data['Age_GP_s'] == 2) & (X_data['Vehicle_Damage_Label_En'] == 1), 2, \n",
        "                           np.where((X_data['Age_GP_s'] == 3) & (X_data['Vehicle_Damage_Label_En'] == 1), 3, \n",
        "                           np.where((X_data['Age_GP_s'] == 4) & (X_data['Vehicle_Damage_Label_En'] == 1), 4, 5))))\n",
        "                           \n",
        "X_data['age_VD'].value_counts()"
      ],
      "metadata": {
        "id": "pm9xNFsl8GlU",
        "colab": {
          "base_uri": "https://localhost:8080/"
        },
        "outputId": "61452386-ea27-48a1-b0fb-87252b8be001"
      },
      "execution_count": 15,
      "outputs": [
        {
          "output_type": "execute_result",
          "data": {
            "text/plain": [
              "5    188696\n",
              "4     61383\n",
              "3     52856\n",
              "1     46743\n",
              "2     31431\n",
              "Name: age_VD, dtype: int64"
            ]
          },
          "metadata": {},
          "execution_count": 15
        }
      ]
    },
    {
      "cell_type": "code",
      "source": [
        "# response 0 = 관심x \n",
        "fig, ax = plt.subplots(figsize=(20,7))\n",
        "sns.countplot(x=y, hue=X_data['age_VD'], data=X_data, ax=ax, palette=\"pastel\");\n",
        "plt.legend(labels = ['20대+사고있음', '30대+사고있음', '40대+사고있음', '50대이상+사고있음', '보험없음']);"
      ],
      "metadata": {
        "id": "3hSdnlAC8GlU",
        "colab": {
          "base_uri": "https://localhost:8080/",
          "height": 449
        },
        "outputId": "311f4c4d-1338-4500-a730-cc68804d7d75"
      },
      "execution_count": 16,
      "outputs": [
        {
          "output_type": "display_data",
          "data": {
            "text/plain": [
              "<Figure size 1440x504 with 1 Axes>"
            ],
            "image/png": "[encoded data removed]"
          },
          "metadata": {}
        }
      ]
    },
    {
      "cell_type": "markdown",
      "source": [
        "### Age + Policy_Sales_Channel_re"
      ],
      "metadata": {
        "id": "3yz5dkER8GlU"
      }
    },
    {
      "cell_type": "code",
      "source": [
        "# psc_GP age그룹별 판매채널 상위 5개 중 4개씩 나온 152, 124, 26 와 기타로 그룹화 \n",
        "X_data['psc_GP'] = np.where (X_data['Policy_Sales_Channel_re'] == 152, 1, \n",
        "                           np.where(X_data['Policy_Sales_Channel_re'] == 124, 2,\n",
        "                           np.where(X_data['Policy_Sales_Channel_re'] == 26, 3, 4)))\n",
        "X_data['psc_GP'].value_counts()"
      ],
      "metadata": {
        "id": "UijWbJmX8GlU",
        "colab": {
          "base_uri": "https://localhost:8080/"
        },
        "outputId": "039e9355-956f-4595-d7fb-d69036631e6e"
      },
      "execution_count": 17,
      "outputs": [
        {
          "output_type": "execute_result",
          "data": {
            "text/plain": [
              "1    134784\n",
              "4     92630\n",
              "3     79700\n",
              "2     73995\n",
              "Name: psc_GP, dtype: int64"
            ]
          },
          "metadata": {},
          "execution_count": 17
        }
      ]
    },
    {
      "cell_type": "code",
      "source": [
        "fig, ax = plt.subplots(figsize=(20,7))\n",
        "sns.countplot(x=y, hue=X_data['psc_GP'], data=X_data, ax=ax, palette=\"pastel\");\n",
        "plt.legend(labels = ['152', '124', '26', '그 외']);"
      ],
      "metadata": {
        "id": "yWd9JMn88GlU",
        "colab": {
          "base_uri": "https://localhost:8080/",
          "height": 449
        },
        "outputId": "1ae03b51-c772-491a-e3a4-43c51c49483d"
      },
      "execution_count": 18,
      "outputs": [
        {
          "output_type": "display_data",
          "data": {
            "text/plain": [
              "<Figure size 1440x504 with 1 Axes>"
            ],
            "image/png": "[encoded data removed]"
          },
          "metadata": {}
        }
      ]
    },
    {
      "cell_type": "markdown",
      "source": [
        "## Vehicle_Age + PI"
      ],
      "metadata": {
        "id": "m2h-eDry8GlU"
      }
    },
    {
      "cell_type": "code",
      "source": [
        "# Previously_Insured 이전 보험 0 가입 안됨 / 1 가입 됨 이고 1은 거의 response 1 이기에  하나로 통합 \n",
        "X_data['VA_PI'] = np.where ((X_data['Vehicle_Age_Label_En'] == 0) & (X_data['Previously_Insured'] == 0), 1,\n",
        "                           np.where((X_data['Vehicle_Age_Label_En'] == 1) & (X_data['Previously_Insured'] == 0), 2,  \n",
        "                           np.where((X_data['Vehicle_Age_Label_En'] == 2) & (X_data['Previously_Insured'] == 0), 3,4)))\n",
        "                           \n",
        "X_data['VA_PI'].value_counts()"
      ],
      "metadata": {
        "id": "oIQ7qvtZ8GlU",
        "colab": {
          "base_uri": "https://localhost:8080/"
        },
        "outputId": "4d1a7a0d-2a93-4cdb-bc99-bd5fb58e9b60"
      },
      "execution_count": 19,
      "outputs": [
        {
          "output_type": "execute_result",
          "data": {
            "text/plain": [
              "4    174628\n",
              "1    134991\n",
              "2     55529\n",
              "3     15961\n",
              "Name: VA_PI, dtype: int64"
            ]
          },
          "metadata": {},
          "execution_count": 19
        }
      ]
    },
    {
      "cell_type": "code",
      "source": [
        "fig, ax = plt.subplots(figsize=(20,7))\n",
        "sns.countplot(x=y, hue=X_data['VA_PI'], data=X_data, ax=ax, palette=\"pastel\");\n",
        "plt.legend(labels = ['1-2 Year+보험x', '< 1 Year+보험x', '> 2 Years+보험x', '보험o']);"
      ],
      "metadata": {
        "id": "n2TuVv_58GlU",
        "colab": {
          "base_uri": "https://localhost:8080/",
          "height": 449
        },
        "outputId": "a8ec036d-6acc-402c-9874-45e4b4276b66"
      },
      "execution_count": 20,
      "outputs": [
        {
          "output_type": "display_data",
          "data": {
            "text/plain": [
              "<Figure size 1440x504 with 1 Axes>"
            ],
            "image/png": "[encoded data removed]"
          },
          "metadata": {}
        }
      ]
    },
    {
      "cell_type": "code",
      "source": [
        "X_data['VD_PI'] = np.where((df['Vehicle_Damage_Label_En'] == 0) & (df['Previously_Insured'] == 1), 0,\n",
        "                             np.where((df['Vehicle_Damage_Label_En'] == 1) & (df['Previously_Insured'] == 1), 1,\n",
        "                                      np.where((df['Vehicle_Damage_Label_En'] == 0) & (df['Previously_Insured'] == 0), 2,\n",
        "                                               np.where((df['Vehicle_Damage_Label_En'] == 1) & (df['Previously_Insured'] == 0), 3, -1))))\n",
        "fig, ax = plt.subplots(figsize=(20,7))\n",
        "sns.countplot(x=y, hue=X_data['VD_PI'], data=X_data, ax=ax, palette=\"pastel\");\n",
        "plt.legend(labels = ['사고x+보험o', '사고o+보험o', '사고x+보험x', '사고o+보험x']);\n",
        "plt.savefig('VD_PI')"
      ],
      "metadata": {
        "colab": {
          "base_uri": "https://localhost:8080/",
          "height": 449
        },
        "id": "B1cKY6yM0Nb0",
        "outputId": "44fbd97f-014b-4e00-faf8-0df6f34c91ff"
      },
      "execution_count": 21,
      "outputs": [
        {
          "output_type": "display_data",
          "data": {
            "text/plain": [
              "<Figure size 1440x504 with 1 Axes>"
            ],
            "image/png": "[encoded data removed]"
          },
          "metadata": {}
        }
      ]
    },
    {
      "cell_type": "markdown",
      "source": [
        "# 모델링\n",
        "\n",
        "기존데이터 vs SMOTE vs UnderSampler \n",
        "\n",
        "세가지 방법 중 UnderSampler가 가장 좋은 성능을 보임"
      ],
      "metadata": {
        "id": "HWf-_jRY5-cs"
      }
    },
    {
      "cell_type": "code",
      "source": [
        "X_train, X_test, y_train, y_test = train_test_split(X_data, \n",
        "                                                    y, \n",
        "                                                    stratify=y,\n",
        "                                                    test_size = 0.2)\n",
        "\n",
        "# X_data_ch = X_data[['Vehicle_Damage_Label_En', 'Previously_Insured', 'VA_PI', 'age_VD', 'age_PI']]\n",
        "# X_train, X_test, y_train, y_test = train_test_split(X_data_ch, \n",
        "#                                                     y, \n",
        "#                                                     stratify=y,\n",
        "#                                                     test_size = 0.2)"
      ],
      "metadata": {
        "id": "K8R_Swl35_9r"
      },
      "execution_count": 22,
      "outputs": []
    },
    {
      "cell_type": "markdown",
      "source": [
        "## 기본 데이터"
      ],
      "metadata": {
        "id": "9-ro4AcM8n4G"
      }
    },
    {
      "cell_type": "code",
      "source": [
        "ABC = AdaBoostClassifier(random_state=42)\n",
        "ABC.fit(X_train, y_train)\n",
        "\n",
        "# ▶ 예측\n",
        "ABC_y_pred_train = ABC.predict(X_train)\n",
        "ABC_y_pred_test = ABC.predict(X_test)\n"
      ],
      "metadata": {
        "id": "PhXY_8wL5fIu"
      },
      "execution_count": 59,
      "outputs": []
    },
    {
      "cell_type": "code",
      "source": [
        "LGBM = LGBMClassifier(random_state=42)\n",
        "LGBM.fit(X_train, y_train)\n",
        "\n",
        "# ▶ 예측\n",
        "LGBM_y_pred_train = LGBM.predict(X_train)\n",
        "LGBM_y_pred_test = LGBM.predict(X_test)\n"
      ],
      "metadata": {
        "id": "6prMwEmq5fIu"
      },
      "execution_count": 31,
      "outputs": []
    },
    {
      "cell_type": "code",
      "source": [
        "XGBC = XGBClassifier(random_state=42)\n",
        "XGBC.fit(X_train, y_train)\n",
        "\n",
        "# ▶ 예측\n",
        "XGBC_y_pred_train = XGBC.predict(X_train)\n",
        "XGBC_y_pred_test = XGBC.predict(X_test)\n"
      ],
      "metadata": {
        "id": "EEkLyWK4PH4v"
      },
      "execution_count": 30,
      "outputs": []
    },
    {
      "cell_type": "code",
      "source": [
        "KN = KNeighborsClassifier()\n",
        "KN.fit(X_train, y_train)\n",
        "\n",
        "# ▶ 예측\n",
        "KN_y_pred_train = KN.predict(X_train)\n",
        "KN_y_pred_test = KN.predict(X_test)\n"
      ],
      "metadata": {
        "id": "O_UXNWgYPH4w"
      },
      "execution_count": 30,
      "outputs": []
    },
    {
      "cell_type": "code",
      "source": [
        "MLP = MLPClassifier(random_state=42)\n",
        "MLP.fit(X_train, y_train)\n",
        "\n",
        "# ▶ 예측\n",
        "MLP_y_pred_train = MLP.predict(X_train)\n",
        "MLP_y_pred_test = MLP.predict(X_test)\n"
      ],
      "metadata": {
        "id": "g6BeXCnqPH4w"
      },
      "execution_count": 31,
      "outputs": []
    },
    {
      "cell_type": "code",
      "source": [
        "RF = RandomForestClassifier(random_state=42)\n",
        "RF.fit(X_train, y_train)\n",
        "\n",
        "# ▶ 예측\n",
        "RF_y_pred_train = RF.predict(X_train)\n",
        "RF_y_pred_test = RF.predict(X_test)\n"
      ],
      "metadata": {
        "id": "LeTz4hkNPH4w"
      },
      "execution_count": 33,
      "outputs": []
    },
    {
      "cell_type": "code",
      "source": [
        "GB = GradientBoostingClassifier(random_state=42)\n",
        "GB.fit(X_train, y_train)\n",
        "\n",
        "# ▶ 예측\n",
        "GB_y_pred_train = GB.predict(X_train)\n",
        "GB_y_pred_test = GB.predict(X_test)\n"
      ],
      "metadata": {
        "id": "0LBcnz1kPH4x"
      },
      "execution_count": 35,
      "outputs": []
    },
    {
      "cell_type": "code",
      "source": [
        "CAT_data = cb.Pool(data=X_train, label=y_train)\n",
        "\n",
        "CAT = cb.CatBoostClassifier(random_state=42)\n",
        "CAT.fit(CAT_data)\n",
        "\n",
        "# ▶ 예측\n",
        "CAT_y_pred_train = CAT.predict(X_train)\n",
        "CAT_y_pred_test = CAT.predict(X_test)\n"
      ],
      "metadata": {
        "id": "4qfqDh6lPH4x"
      },
      "execution_count": null,
      "outputs": []
    },
    {
      "cell_type": "markdown",
      "source": [
        "### 모델 비교"
      ],
      "metadata": {
        "id": "YVQg9mWpRPjC"
      }
    },
    {
      "cell_type": "code",
      "source": [
        "precision = [precision_score(y_test, ABC_y_pred_test, pos_label=1),\n",
        "             precision_score(y_test, LGBM_y_pred_test, pos_label=1),\n",
        "             precision_score(y_test, XGBC_y_pred_test, pos_label=1),\n",
        "             precision_score(y_test, KN_y_pred_test, pos_label=1),\n",
        "             precision_score(y_test, MLP_y_pred_test, pos_label=1),\n",
        "             precision_score(y_test, RF_y_pred_test, pos_label=1),\n",
        "             precision_score(y_test, GB_y_pred_test, pos_label=1),\n",
        "             precision_score(y_test, CAT_y_pred_test, pos_label=1)]\n"
      ],
      "metadata": {
        "id": "gzgVCrqsQu7w"
      },
      "execution_count": 61,
      "outputs": []
    },
    {
      "cell_type": "code",
      "source": [
        "recall = [recall_score(y_test, ABC_y_pred_test, pos_label=1),\n",
        "             recall_score(y_test, LGBM_y_pred_test, pos_label=1),\n",
        "             recall_score(y_test, XGBC_y_pred_test, pos_label=1),\n",
        "             recall_score(y_test, KN_y_pred_test, pos_label=1),\n",
        "             recall_score(y_test, MLP_y_pred_test, pos_label=1),\n",
        "             recall_score(y_test, RF_y_pred_test, pos_label=1),\n",
        "             recall_score(y_test, GB_y_pred_test, pos_label=1),\n",
        "             recall_score(y_test, CAT_y_pred_test, pos_label=1)]\n"
      ],
      "metadata": {
        "id": "BYF-B4T8FpkO"
      },
      "execution_count": 62,
      "outputs": []
    },
    {
      "cell_type": "code",
      "source": [
        "f1_s = [f1_score(y_test, ABC_y_pred_test, pos_label=1),\n",
        "             f1_score(y_test, LGBM_y_pred_test, pos_label=1),\n",
        "             f1_score(y_test, XGBC_y_pred_test, pos_label=1),\n",
        "             f1_score(y_test, KN_y_pred_test, pos_label=1),\n",
        "             f1_score(y_test, MLP_y_pred_test, pos_label=1),\n",
        "             f1_score(y_test, RF_y_pred_test, pos_label=1),\n",
        "             f1_score(y_test, GB_y_pred_test, pos_label=1),\n",
        "             f1_score(y_test, CAT_y_pred_test, pos_label=1)]"
      ],
      "metadata": {
        "id": "8uj-yGSyF-7y"
      },
      "execution_count": 63,
      "outputs": []
    },
    {
      "cell_type": "code",
      "source": [
        "base_score_df = pd.DataFrame([precision, recall, f1_s], \n",
        "                        columns=['ABC', 'LGBM', 'XGBC', 'KN', 'MLP', 'RF', 'GB', 'CAT'],\n",
        "                        index=['precision', 'recall', 'f1_score'])"
      ],
      "metadata": {
        "id": "nL2ZQ9xeQu7w"
      },
      "execution_count": 64,
      "outputs": []
    },
    {
      "cell_type": "code",
      "source": [
        "base_score_df = base_score_df.T\n",
        "base_score_df"
      ],
      "metadata": {
        "id": "2pvzTbYiQu7w",
        "colab": {
          "base_uri": "https://localhost:8080/",
          "height": 300
        },
        "outputId": "c0e839b3-d47e-4fb9-cb78-7ba1232b5026"
      },
      "execution_count": 65,
      "outputs": [
        {
          "output_type": "execute_result",
          "data": {
            "text/plain": [
              "      precision    recall  f1_score\n",
              "ABC    0.250000  0.000107  0.000214\n",
              "LGBM   0.130435  0.000642  0.001278\n",
              "XGBC   0.102397  0.005031  0.009591\n",
              "KN     0.119499  0.033719  0.052596\n",
              "MLP    0.123280  0.487155  0.196766\n",
              "RF     0.121737  0.059409  0.079850\n",
              "GB     0.000000  0.000000  0.000000\n",
              "CAT    0.132931  0.009420  0.017593"
            ],
            "text/html": [
              "\n",
              "  <div id=\"df-68e327a9-77aa-42dc-bc5a-e639d3301b63\">\n",
              "    <div class=\"colab-df-container\">\n",
              "      <div>\n",
              "<style scoped>\n",
              "    .dataframe tbody tr th:only-of-type {\n",
              "        vertical-align: middle;\n",
              "    }\n",
              "\n",
              "    .dataframe tbody tr th {\n",
              "        vertical-align: top;\n",
              "    }\n",
              "\n",
              "    .dataframe thead th {\n",
              "        text-align: right;\n",
              "    }\n",
              "</style>\n",
              "<table border=\"1\" class=\"dataframe\">\n",
              "  <thead>\n",
              "    <tr style=\"text-align: right;\">\n",
              "      <th></th>\n",
              "      <th>precision</th>\n",
              "      <th>recall</th>\n",
              "      <th>f1_score</th>\n",
              "    </tr>\n",
              "  </thead>\n",
              "  <tbody>\n",
              "    <tr>\n",
              "      <th>ABC</th>\n",
              "      <td>0.250000</td>\n",
              "      <td>0.000107</td>\n",
              "      <td>0.000214</td>\n",
              "    </tr>\n",
              "    <tr>\n",
              "      <th>LGBM</th>\n",
              "      <td>0.130435</td>\n",
              "      <td>0.000642</td>\n",
              "      <td>0.001278</td>\n",
              "    </tr>\n",
              "    <tr>\n",
              "      <th>XGBC</th>\n",
              "      <td>0.102397</td>\n",
              "      <td>0.005031</td>\n",
              "      <td>0.009591</td>\n",
              "    </tr>\n",
              "    <tr>\n",
              "      <th>KN</th>\n",
              "      <td>0.119499</td>\n",
              "      <td>0.033719</td>\n",
              "      <td>0.052596</td>\n",
              "    </tr>\n",
              "    <tr>\n",
              "      <th>MLP</th>\n",
              "      <td>0.123280</td>\n",
              "      <td>0.487155</td>\n",
              "      <td>0.196766</td>\n",
              "    </tr>\n",
              "    <tr>\n",
              "      <th>RF</th>\n",
              "      <td>0.121737</td>\n",
              "      <td>0.059409</td>\n",
              "      <td>0.079850</td>\n",
              "    </tr>\n",
              "    <tr>\n",
              "      <th>GB</th>\n",
              "      <td>0.000000</td>\n",
              "      <td>0.000000</td>\n",
              "      <td>0.000000</td>\n",
              "    </tr>\n",
              "    <tr>\n",
              "      <th>CAT</th>\n",
              "      <td>0.132931</td>\n",
              "      <td>0.009420</td>\n",
              "      <td>0.017593</td>\n",
              "    </tr>\n",
              "  </tbody>\n",
              "</table>\n",
              "</div>\n",
              "      <button class=\"colab-df-convert\" onclick=\"convertToInteractive('df-68e327a9-77aa-42dc-bc5a-e639d3301b63')\"\n",
              "              title=\"Convert this dataframe to an interactive table.\"\n",
              "              style=\"display:none;\">\n",
              "        \n",
              "  <svg xmlns=\"http://www.w3.org/2000/svg\" height=\"24px\"viewBox=\"0 0 24 24\"\n",
              "       width=\"24px\">\n",
              "    <path d=\"M0 0h24v24H0V0z\" fill=\"none\"/>\n",
              "    <path d=\"M18.56 5.44l.94 2.06.94-2.06 2.06-.94-2.06-.94-.94-2.06-.94 2.06-2.06.94zm-11 1L8.5 8.5l.94-2.06 2.06-.94-2.06-.94L8.5 2.5l-.94 2.06-2.06.94zm10 10l.94 2.06.94-2.06 2.06-.94-2.06-.94-.94-2.06-.94 2.06-2.06.94z\"/><path d=\"M17.41 7.96l-1.37-1.37c-.4-.4-.92-.59-1.43-.59-.52 0-1.04.2-1.43.59L10.3 9.45l-7.72 7.72c-.78.78-.78 2.05 0 2.83L4 21.41c.39.39.9.59 1.41.59.51 0 1.02-.2 1.41-.59l7.78-7.78 2.81-2.81c.8-.78.8-2.07 0-2.86zM5.41 20L4 18.59l7.72-7.72 1.47 1.35L5.41 20z\"/>\n",
              "  </svg>\n",
              "      </button>\n",
              "      \n",
              "  <style>\n",
              "    .colab-df-container {\n",
              "      display:flex;\n",
              "      flex-wrap:wrap;\n",
              "      gap: 12px;\n",
              "    }\n",
              "\n",
              "    .colab-df-convert {\n",
              "      background-color: #E8F0FE;\n",
              "      border: none;\n",
              "      border-radius: 50%;\n",
              "      cursor: pointer;\n",
              "      display: none;\n",
              "      fill: #1967D2;\n",
              "      height: 32px;\n",
              "      padding: 0 0 0 0;\n",
              "      width: 32px;\n",
              "    }\n",
              "\n",
              "    .colab-df-convert:hover {\n",
              "      background-color: #E2EBFA;\n",
              "      box-shadow: 0px 1px 2px rgba(60, 64, 67, 0.3), 0px 1px 3px 1px rgba(60, 64, 67, 0.15);\n",
              "      fill: #174EA6;\n",
              "    }\n",
              "\n",
              "    [theme=dark] .colab-df-convert {\n",
              "      background-color: #3B4455;\n",
              "      fill: #D2E3FC;\n",
              "    }\n",
              "\n",
              "    [theme=dark] .colab-df-convert:hover {\n",
              "      background-color: #434B5C;\n",
              "      box-shadow: 0px 1px 3px 1px rgba(0, 0, 0, 0.15);\n",
              "      filter: drop-shadow(0px 1px 2px rgba(0, 0, 0, 0.3));\n",
              "      fill: #FFFFFF;\n",
              "    }\n",
              "  </style>\n",
              "\n",
              "      <script>\n",
              "        const buttonEl =\n",
              "          document.querySelector('#df-68e327a9-77aa-42dc-bc5a-e639d3301b63 button.colab-df-convert');\n",
              "        buttonEl.style.display =\n",
              "          google.colab.kernel.accessAllowed ? 'block' : 'none';\n",
              "\n",
              "        async function convertToInteractive(key) {\n",
              "          const element = document.querySelector('#df-68e327a9-77aa-42dc-bc5a-e639d3301b63');\n",
              "          const dataTable =\n",
              "            await google.colab.kernel.invokeFunction('convertToInteractive',\n",
              "                                                     [key], {});\n",
              "          if (!dataTable) return;\n",
              "\n",
              "          const docLinkHtml = 'Like what you see? Visit the ' +\n",
              "            '<a target=\"_blank\" href=https://colab.research.google.com/notebooks/data_table.ipynb>data table notebook</a>'\n",
              "            + ' to learn more about interactive tables.';\n",
              "          element.innerHTML = '';\n",
              "          dataTable['output_type'] = 'display_data';\n",
              "          await google.colab.output.renderOutput(dataTable, element);\n",
              "          const docLink = document.createElement('div');\n",
              "          docLink.innerHTML = docLinkHtml;\n",
              "          element.appendChild(docLink);\n",
              "        }\n",
              "      </script>\n",
              "    </div>\n",
              "  </div>\n",
              "  "
            ]
          },
          "metadata": {},
          "execution_count": 65
        }
      ]
    },
    {
      "cell_type": "code",
      "source": [
        "base_score_df.to_csv(\"base_score_df.csv\", mode='w')"
      ],
      "metadata": {
        "id": "GWVnxMnBzPUX"
      },
      "execution_count": 66,
      "outputs": []
    },
    {
      "cell_type": "markdown",
      "source": [
        "## SMOTE"
      ],
      "metadata": {
        "id": "-Ye4IdAt6uiB"
      }
    },
    {
      "cell_type": "code",
      "source": [
        "smote = SMOTE(random_state=42)\n",
        "X_train_over, y_train_over = smote.fit_resample(X_train, y_train)\n",
        "print(\"SMOTE 적용 전 학습용 피처/레이블 데이터 세트 : \", X_train.shape, y_train.shape)\n",
        "print('SMOTE 적용 후 학습용 피처/레이블 데이터 세트 :', X_train_over.shape, y_train_over.shape)\n",
        "print('SMOTE 적용 후 값의 분포 :\\n',pd.Series(y_train_over).value_counts() )"
      ],
      "metadata": {
        "id": "AxMPPQl160-w",
        "colab": {
          "base_uri": "https://localhost:8080/"
        },
        "outputId": "ed420412-58d1-465d-bb07-e32b234a341c"
      },
      "execution_count": 51,
      "outputs": [
        {
          "output_type": "stream",
          "name": "stdout",
          "text": [
            "SMOTE 적용 전 학습용 피처/레이블 데이터 세트 :  (304887, 15) (304887,)\n",
            "SMOTE 적용 후 학습용 피처/레이블 데이터 세트 : (535038, 15) (535038,)\n",
            "SMOTE 적용 후 값의 분포 :\n",
            " 0    267519\n",
            "1    267519\n",
            "Name: Response, dtype: int64\n"
          ]
        }
      ]
    },
    {
      "cell_type": "code",
      "source": [
        "ABC_over = AdaBoostClassifier(random_state=42)\n",
        "ABC_over.fit(X_train_over, y_train_over)\n",
        "\n",
        "# ▶ 예측\n",
        "ABC_over_y_pred_train = ABC_over.predict(X_train_over)\n",
        "ABC_over_y_pred_test = ABC_over.predict(X_test)\n"
      ],
      "metadata": {
        "id": "7GAf9EaEfI2I"
      },
      "execution_count": 68,
      "outputs": []
    },
    {
      "cell_type": "code",
      "source": [
        "LGBM_over = LGBMClassifier(random_state=42)\n",
        "LGBM_over.fit(X_train_over, y_train_over)\n",
        "\n",
        "# ▶ 예측\n",
        "LGBM_over_y_pred_train = LGBM_over.predict(X_train_over)\n",
        "LGBM_over_y_pred_test = LGBM_over.predict(X_test)\n"
      ],
      "metadata": {
        "id": "iF-q2HqmfI2J"
      },
      "execution_count": 37,
      "outputs": []
    },
    {
      "cell_type": "code",
      "source": [
        "XGBC_over = XGBClassifier(random_state=42)\n",
        "XGBC_over.fit(X_train_over, y_train_over)\n",
        "\n",
        "# ▶ 예측\n",
        "XGBC_over_y_pred_train = XGBC_over.predict(X_train_over)\n",
        "XGBC_over_y_pred_test = XGBC_over.predict(X_test)\n"
      ],
      "metadata": {
        "id": "DZsbOKyufI2J"
      },
      "execution_count": 38,
      "outputs": []
    },
    {
      "cell_type": "code",
      "source": [
        "KN_over = KNeighborsClassifier()\n",
        "KN_over.fit(X_train_over, y_train_over)\n",
        "\n",
        "# ▶ 예측\n",
        "KN_over_y_pred_train = KN_over.predict(X_train_over)\n",
        "KN_over_y_pred_test = KN_over.predict(X_test)\n"
      ],
      "metadata": {
        "id": "XyrpAsB8fI2J"
      },
      "execution_count": 71,
      "outputs": []
    },
    {
      "cell_type": "code",
      "source": [
        "MLP_over = MLPClassifier(random_state=42)\n",
        "MLP_over.fit(X_train_over, y_train_over)\n",
        "\n",
        "# ▶ 예측\n",
        "MLP_over_y_pred_train = MLP_over.predict(X_train_over)\n",
        "MLP_over_y_pred_test = MLP_over.predict(X_test)\n"
      ],
      "metadata": {
        "id": "xhR6PTGCfI2J"
      },
      "execution_count": 72,
      "outputs": []
    },
    {
      "cell_type": "code",
      "source": [
        "RF_over = RandomForestClassifier(random_state=42)\n",
        "RF_over.fit(X_train_over, y_train_over)\n",
        "\n",
        "# ▶ 예측\n",
        "RF_over_y_pred_train = RF_over.predict(X_train_over)\n",
        "RF_over_y_pred_test = RF_over.predict(X_test)\n"
      ],
      "metadata": {
        "id": "OTsDP8QPfI2J"
      },
      "execution_count": null,
      "outputs": []
    },
    {
      "cell_type": "code",
      "source": [
        "GB_over = GradientBoostingClassifier(random_state=42)\n",
        "GB_over.fit(X_train_over, y_train_over)\n",
        "\n",
        "# ▶ 예측\n",
        "GB_over_y_pred_train = GB_over.predict(X_train_over)\n",
        "GB_over_y_pred_test = GB_over.predict(X_test)\n"
      ],
      "metadata": {
        "id": "k3YLOsGdfI2J"
      },
      "execution_count": null,
      "outputs": []
    },
    {
      "cell_type": "code",
      "source": [
        "CAT_data = cb.Pool(data=X_train_over, label=y_train_over)\n",
        "\n",
        "CAT_over = cb.CatBoostClassifier(random_state=42)\n",
        "CAT_over.fit(CAT_data)\n",
        "\n",
        "# ▶ 예측\n",
        "CAT_over_y_pred_train = CAT_over.predict(X_train_over)\n",
        "CAT_over_y_pred_test = CAT_over.predict(X_test)\n"
      ],
      "metadata": {
        "id": "xQWlO7WafI2J"
      },
      "execution_count": null,
      "outputs": []
    },
    {
      "cell_type": "markdown",
      "source": [
        "### 모델 비교"
      ],
      "metadata": {
        "id": "JaJKu2GXfI2J"
      }
    },
    {
      "cell_type": "code",
      "source": [
        "precision_over = [precision_score(y_test, ABC_over_y_pred_test, pos_label=1),\n",
        "             precision_score(y_test, LGBM_over_y_pred_test, pos_label=1),\n",
        "             precision_score(y_test, XGBC_over_y_pred_test, pos_label=1),\n",
        "             precision_score(y_test, KN_over_y_pred_test, pos_label=1),\n",
        "             precision_score(y_test, MLP_over_y_pred_test, pos_label=1),\n",
        "             precision_score(y_test, RF_over_y_pred_test, pos_label=1),\n",
        "             precision_score(y_test, GB_over_y_pred_test, pos_label=1),\n",
        "             precision_score(y_test, CAT_over_y_pred_test, pos_label=1)]"
      ],
      "metadata": {
        "id": "c2HanJXWfI2J"
      },
      "execution_count": null,
      "outputs": []
    },
    {
      "cell_type": "code",
      "source": [
        "recall_over = [recall_score(y_test, ABC_over_y_pred_test, pos_label=1),\n",
        "             recall_score(y_test, LGBM_over_y_pred_test, pos_label=1),\n",
        "             recall_score(y_test, XGBC_over_y_pred_test, pos_label=1),\n",
        "             recall_score(y_test, KN_over_y_pred_test, pos_label=1),\n",
        "             recall_score(y_test, MLP_over_y_pred_test, pos_label=1),\n",
        "             recall_score(y_test, RF_over_y_pred_test, pos_label=1),\n",
        "             recall_score(y_test, GB_over_y_pred_test, pos_label=1),\n",
        "             recall_score(y_test, CAT_over_y_pred_test, pos_label=1)]"
      ],
      "metadata": {
        "id": "3fNuqOslFh3I"
      },
      "execution_count": null,
      "outputs": []
    },
    {
      "cell_type": "code",
      "source": [
        "f1_score_over = [f1_score(y_test, ABC_over_y_pred_test, pos_label=1),\n",
        "             f1_score(y_test, LGBM_over_y_pred_test, pos_label=1),\n",
        "             f1_score(y_test, XGBC_over_y_pred_test, pos_label=1),\n",
        "             f1_score(y_test, KN_over_y_pred_test, pos_label=1),\n",
        "             f1_score(y_test, MLP_over_y_pred_test, pos_label=1),\n",
        "             f1_score(y_test, RF_over_y_pred_test, pos_label=1),\n",
        "             f1_score(y_test, GB_over_y_pred_test, pos_label=1),\n",
        "             f1_score(y_test, CAT_over_y_pred_test, pos_label=1)]"
      ],
      "metadata": {
        "id": "otu9PDb_Fg3V"
      },
      "execution_count": null,
      "outputs": []
    },
    {
      "cell_type": "code",
      "source": [
        "over_score_df = pd.DataFrame([precision_over, recall_over, f1_score_over], \n",
        "                        columns=['ABC', 'LGBM', 'XGBC', 'KN', 'MLP', 'RF', 'GB', 'CAT'],\n",
        "                        index=['precision_over', 'recall_over', 'f1_score_over'])"
      ],
      "metadata": {
        "id": "kYYnbVjmfI2J"
      },
      "execution_count": null,
      "outputs": []
    },
    {
      "cell_type": "code",
      "source": [
        "over_score_df = over_score_df.T\n",
        "over_score_df"
      ],
      "metadata": {
        "id": "qEnxNeUHfI2J"
      },
      "execution_count": null,
      "outputs": []
    },
    {
      "cell_type": "code",
      "source": [
        "over_score_df.to_csv(\"over_score_df.csv\", mode='w')"
      ],
      "metadata": {
        "id": "Fkn9YDo5zW26"
      },
      "execution_count": null,
      "outputs": []
    },
    {
      "cell_type": "markdown",
      "source": [
        "## RandomUnderSampler"
      ],
      "metadata": {
        "id": "SEw9o1oO7PV8"
      }
    },
    {
      "cell_type": "code",
      "source": [
        "undersample = RandomUnderSampler(sampling_strategy='majority')\n",
        "X_under, y_under = undersample.fit_resample(X_train, y_train)"
      ],
      "metadata": {
        "id": "DDh_qi2q7Upi"
      },
      "execution_count": 43,
      "outputs": []
    },
    {
      "cell_type": "code",
      "source": [
        "ABC_under = AdaBoostClassifier(random_state=42)\n",
        "ABC_under.fit(X_under, y_under)\n",
        "\n",
        "# ▶ 예측\n",
        "ABC_under_y_pred_train = ABC_under.predict(X_under)\n",
        "ABC_under_y_pred_test = ABC_under.predict(X_test)"
      ],
      "metadata": {
        "id": "MVfZhqw07_jt"
      },
      "execution_count": null,
      "outputs": []
    },
    {
      "cell_type": "code",
      "source": [
        "LGBM_under = LGBMClassifier(random_state=42)\n",
        "LGBM_under.fit(X_under, y_under)\n",
        "\n",
        "# ▶ 예측\n",
        "LGBM_under_y_pred_train = LGBM_under.predict(X_under)\n",
        "LGBM_under_y_pred_test = LGBM_under.predict(X_test)"
      ],
      "metadata": {
        "id": "3TnR41rt7_ju"
      },
      "execution_count": 44,
      "outputs": []
    },
    {
      "cell_type": "code",
      "source": [
        "XGBC_under = XGBClassifier(random_state=42)\n",
        "XGBC_under.fit(X_under, y_under)\n",
        "\n",
        "# ▶ 예측\n",
        "XGBC_under_y_pred_train = XGBC_under.predict(X_under)\n",
        "XGBC_under_y_pred_test = XGBC_under.predict(X_test)"
      ],
      "metadata": {
        "id": "4GRqx3IYLrLE"
      },
      "execution_count": 45,
      "outputs": []
    },
    {
      "cell_type": "code",
      "source": [
        "KN_under = KNeighborsClassifier()\n",
        "KN_under.fit(X_under, y_under)\n",
        "\n",
        "# ▶ 예측\n",
        "KN_under_y_pred_train = KN_under.predict(X_under)\n",
        "KN_under_y_pred_test = KN_under.predict(X_test)"
      ],
      "metadata": {
        "id": "0dhbw4jnLrIu"
      },
      "execution_count": null,
      "outputs": []
    },
    {
      "cell_type": "code",
      "source": [
        "MLP_under = MLPClassifier(random_state=42)\n",
        "MLP_under.fit(X_under, y_under)\n",
        "\n",
        "# ▶ 예측\n",
        "MLP_under_y_pred_train = MLP_under.predict(X_under)\n",
        "MLP_under_y_pred_test = MLP_under.predict(X_test)"
      ],
      "metadata": {
        "id": "RnDduBXNLrAU"
      },
      "execution_count": null,
      "outputs": []
    },
    {
      "cell_type": "code",
      "source": [
        "RF_under = RandomForestClassifier(random_state=42)\n",
        "RF_under.fit(X_under, y_under)\n",
        "\n",
        "# ▶ 예측\n",
        "RF_under_y_pred_train = RF_under.predict(X_under)\n",
        "RF_under_y_pred_test = RF_under.predict(X_test)"
      ],
      "metadata": {
        "id": "SlFYPNPhLq4Z"
      },
      "execution_count": null,
      "outputs": []
    },
    {
      "cell_type": "code",
      "source": [
        "GB_under = GradientBoostingClassifier(random_state=42)\n",
        "GB_under.fit(X_under, y_under)\n",
        "\n",
        "# ▶ 예측\n",
        "GB_under_y_pred_train = GB_under.predict(X_under)\n",
        "GB_under_y_pred_test = GB_under.predict(X_test)"
      ],
      "metadata": {
        "id": "-1WqhPZnL6Be"
      },
      "execution_count": null,
      "outputs": []
    },
    {
      "cell_type": "code",
      "source": [
        "CAT_under_data = cb.Pool(data=X_under, label=y_under)\n",
        "\n",
        "CAT_under = cb.CatBoostClassifier(random_state=42)\n",
        "CAT_under.fit(CAT_under_data)\n",
        "\n",
        "# ▶ 예측\n",
        "CAT_under_y_pred_train = CAT_under.predict(X_under)\n",
        "CAT_under_y_pred_test = CAT_under.predict(X_test)"
      ],
      "metadata": {
        "id": "DhMdJ0cpSACk"
      },
      "execution_count": null,
      "outputs": []
    },
    {
      "cell_type": "markdown",
      "source": [
        "### 모델 비교"
      ],
      "metadata": {
        "id": "DmryXpesjmne"
      }
    },
    {
      "cell_type": "code",
      "source": [
        "precision_under = [precision_score(y_test, ABC_under_y_pred_test, pos_label=1),\n",
        "             precision_score(y_test, LGBM_under_y_pred_test, pos_label=1),\n",
        "             precision_score(y_test, XGBC_under_y_pred_test, pos_label=1),\n",
        "             precision_score(y_test, KN_under_y_pred_test, pos_label=1),\n",
        "             precision_score(y_test, MLP_under_y_pred_test, pos_label=1),\n",
        "             precision_score(y_test, RF_under_y_pred_test, pos_label=1),\n",
        "             precision_score(y_test, GB_under_y_pred_test, pos_label=1),\n",
        "             precision_score(y_test, CAT_under_y_pred_test, pos_label=1)]\n",
        "recall_under = [recall_score(y_test, ABC_under_y_pred_test, pos_label=1),\n",
        "             recall_score(y_test, LGBM_under_y_pred_test, pos_label=1),\n",
        "             recall_score(y_test, XGBC_under_y_pred_test, pos_label=1),\n",
        "             recall_score(y_test, KN_under_y_pred_test, pos_label=1),\n",
        "             recall_score(y_test, MLP_under_y_pred_test, pos_label=1),\n",
        "             recall_score(y_test, RF_under_y_pred_test, pos_label=1),\n",
        "             recall_score(y_test, GB_under_y_pred_test, pos_label=1),\n",
        "             recall_score(y_test, CAT_under_y_pred_test, pos_label=1)]\n",
        "f1_score_under = [f1_score(y_test, ABC_under_y_pred_test, pos_label=1),\n",
        "             f1_score(y_test, LGBM_under_y_pred_test, pos_label=1),\n",
        "             f1_score(y_test, XGBC_under_y_pred_test, pos_label=1),\n",
        "             f1_score(y_test, KN_under_y_pred_test, pos_label=1),\n",
        "             f1_score(y_test, MLP_under_y_pred_test, pos_label=1),\n",
        "             f1_score(y_test, RF_under_y_pred_test, pos_label=1),\n",
        "             f1_score(y_test, GB_under_y_pred_test, pos_label=1),\n",
        "             f1_score(y_test, CAT_under_y_pred_test, pos_label=1)]"
      ],
      "metadata": {
        "id": "HITS1NmBjmnf"
      },
      "execution_count": null,
      "outputs": []
    },
    {
      "cell_type": "code",
      "source": [
        "under_score_df = pd.DataFrame([precision_under, recall_under, f1_score_under], \n",
        "                        columns=['ABC', 'LGBM', 'XGBC', 'KN', 'MLP', 'RF', 'GB', 'CAT'],\n",
        "                        index=['precision_under', 'recall_under', 'f1_score_under'])"
      ],
      "metadata": {
        "id": "lzkdynFsjmnf"
      },
      "execution_count": null,
      "outputs": []
    },
    {
      "cell_type": "code",
      "source": [
        "under_score_df = under_score_df.T\n",
        "under_score_df"
      ],
      "metadata": {
        "id": "Oox0rlaAjmnf"
      },
      "execution_count": null,
      "outputs": []
    },
    {
      "cell_type": "code",
      "source": [
        "under_score_df.to_csv(\"under_score_df.csv\", mode='w')"
      ],
      "metadata": {
        "id": "4Qteu10YAJ5r"
      },
      "execution_count": null,
      "outputs": []
    },
    {
      "cell_type": "markdown",
      "source": [
        "# 모델 고르기"
      ],
      "metadata": {
        "id": "77dKOikZGe-1"
      }
    },
    {
      "cell_type": "code",
      "source": [
        "scores_df = pd.concat([base_score_df, over_score_df, under_score_df], axis=1)\n",
        "# over_score_df\n",
        "# under_score_df\n",
        "scores_df.to_csv(\"scores_df.csv\", mode='w')"
      ],
      "metadata": {
        "id": "SxEtMVRyGrv_"
      },
      "execution_count": null,
      "outputs": []
    },
    {
      "cell_type": "code",
      "source": [
        "scores_df"
      ],
      "metadata": {
        "colab": {
          "base_uri": "https://localhost:8080/",
          "height": 300
        },
        "id": "_VniuvNwIgsp",
        "outputId": "d330d3d1-7132-41db-c754-4ef399d3498c"
      },
      "execution_count": 93,
      "outputs": [
        {
          "output_type": "execute_result",
          "data": {
            "text/plain": [
              "      precision    recall  f1_score  precision_over  recall_over  \\\n",
              "ABC    0.400000  0.000214  0.000428        0.296286     0.677157   \n",
              "LGBM   0.393939  0.001392  0.002773        0.326672     0.566902   \n",
              "XGBC   0.421594  0.017555  0.033707        0.327156     0.549882   \n",
              "KN     0.215354  0.057054  0.090209        0.179553     0.469064   \n",
              "MLP    0.280936  0.008992  0.017426        0.257583     0.722650   \n",
              "RF     0.338688  0.164740  0.221662        0.320385     0.435239   \n",
              "GB     0.500000  0.000321  0.000642        0.318740     0.621923   \n",
              "CAT    0.477099  0.026761  0.050679        0.329370     0.536716   \n",
              "\n",
              "      f1_score_over  precision_under  recall_under  f1_score_under  \n",
              "ABC        0.412211         0.276112      0.927317        0.425523  \n",
              "LGBM       0.414495         0.277072      0.934489        0.427417  \n",
              "XGBC       0.410238         0.278329      0.922608        0.427646  \n",
              "KN         0.259697         0.168555      0.619461        0.265003  \n",
              "MLP        0.379792         0.275838      0.210554        0.238815  \n",
              "RF         0.369083         0.278977      0.842218        0.419124  \n",
              "GB         0.421473         0.274594      0.937594        0.424782  \n",
              "CAT        0.408223         0.278783      0.925070        0.428447  "
            ],
            "text/html": [
              "\n",
              "  <div id=\"df-8916e552-1fb1-4951-a26b-4bbb388d31d8\">\n",
              "    <div class=\"colab-df-container\">\n",
              "      <div>\n",
              "<style scoped>\n",
              "    .dataframe tbody tr th:only-of-type {\n",
              "        vertical-align: middle;\n",
              "    }\n",
              "\n",
              "    .dataframe tbody tr th {\n",
              "        vertical-align: top;\n",
              "    }\n",
              "\n",
              "    .dataframe thead th {\n",
              "        text-align: right;\n",
              "    }\n",
              "</style>\n",
              "<table border=\"1\" class=\"dataframe\">\n",
              "  <thead>\n",
              "    <tr style=\"text-align: right;\">\n",
              "      <th></th>\n",
              "      <th>precision</th>\n",
              "      <th>recall</th>\n",
              "      <th>f1_score</th>\n",
              "      <th>precision_over</th>\n",
              "      <th>recall_over</th>\n",
              "      <th>f1_score_over</th>\n",
              "      <th>precision_under</th>\n",
              "      <th>recall_under</th>\n",
              "      <th>f1_score_under</th>\n",
              "    </tr>\n",
              "  </thead>\n",
              "  <tbody>\n",
              "    <tr>\n",
              "      <th>ABC</th>\n",
              "      <td>0.400000</td>\n",
              "      <td>0.000214</td>\n",
              "      <td>0.000428</td>\n",
              "      <td>0.296286</td>\n",
              "      <td>0.677157</td>\n",
              "      <td>0.412211</td>\n",
              "      <td>0.276112</td>\n",
              "      <td>0.927317</td>\n",
              "      <td>0.425523</td>\n",
              "    </tr>\n",
              "    <tr>\n",
              "      <th>LGBM</th>\n",
              "      <td>0.393939</td>\n",
              "      <td>0.001392</td>\n",
              "      <td>0.002773</td>\n",
              "      <td>0.326672</td>\n",
              "      <td>0.566902</td>\n",
              "      <td>0.414495</td>\n",
              "      <td>0.277072</td>\n",
              "      <td>0.934489</td>\n",
              "      <td>0.427417</td>\n",
              "    </tr>\n",
              "    <tr>\n",
              "      <th>XGBC</th>\n",
              "      <td>0.421594</td>\n",
              "      <td>0.017555</td>\n",
              "      <td>0.033707</td>\n",
              "      <td>0.327156</td>\n",
              "      <td>0.549882</td>\n",
              "      <td>0.410238</td>\n",
              "      <td>0.278329</td>\n",
              "      <td>0.922608</td>\n",
              "      <td>0.427646</td>\n",
              "    </tr>\n",
              "    <tr>\n",
              "      <th>KN</th>\n",
              "      <td>0.215354</td>\n",
              "      <td>0.057054</td>\n",
              "      <td>0.090209</td>\n",
              "      <td>0.179553</td>\n",
              "      <td>0.469064</td>\n",
              "      <td>0.259697</td>\n",
              "      <td>0.168555</td>\n",
              "      <td>0.619461</td>\n",
              "      <td>0.265003</td>\n",
              "    </tr>\n",
              "    <tr>\n",
              "      <th>MLP</th>\n",
              "      <td>0.280936</td>\n",
              "      <td>0.008992</td>\n",
              "      <td>0.017426</td>\n",
              "      <td>0.257583</td>\n",
              "      <td>0.722650</td>\n",
              "      <td>0.379792</td>\n",
              "      <td>0.275838</td>\n",
              "      <td>0.210554</td>\n",
              "      <td>0.238815</td>\n",
              "    </tr>\n",
              "    <tr>\n",
              "      <th>RF</th>\n",
              "      <td>0.338688</td>\n",
              "      <td>0.164740</td>\n",
              "      <td>0.221662</td>\n",
              "      <td>0.320385</td>\n",
              "      <td>0.435239</td>\n",
              "      <td>0.369083</td>\n",
              "      <td>0.278977</td>\n",
              "      <td>0.842218</td>\n",
              "      <td>0.419124</td>\n",
              "    </tr>\n",
              "    <tr>\n",
              "      <th>GB</th>\n",
              "      <td>0.500000</td>\n",
              "      <td>0.000321</td>\n",
              "      <td>0.000642</td>\n",
              "      <td>0.318740</td>\n",
              "      <td>0.621923</td>\n",
              "      <td>0.421473</td>\n",
              "      <td>0.274594</td>\n",
              "      <td>0.937594</td>\n",
              "      <td>0.424782</td>\n",
              "    </tr>\n",
              "    <tr>\n",
              "      <th>CAT</th>\n",
              "      <td>0.477099</td>\n",
              "      <td>0.026761</td>\n",
              "      <td>0.050679</td>\n",
              "      <td>0.329370</td>\n",
              "      <td>0.536716</td>\n",
              "      <td>0.408223</td>\n",
              "      <td>0.278783</td>\n",
              "      <td>0.925070</td>\n",
              "      <td>0.428447</td>\n",
              "    </tr>\n",
              "  </tbody>\n",
              "</table>\n",
              "</div>\n",
              "      <button class=\"colab-df-convert\" onclick=\"convertToInteractive('df-8916e552-1fb1-4951-a26b-4bbb388d31d8')\"\n",
              "              title=\"Convert this dataframe to an interactive table.\"\n",
              "              style=\"display:none;\">\n",
              "        \n",
              "  <svg xmlns=\"http://www.w3.org/2000/svg\" height=\"24px\"viewBox=\"0 0 24 24\"\n",
              "       width=\"24px\">\n",
              "    <path d=\"M0 0h24v24H0V0z\" fill=\"none\"/>\n",
              "    <path d=\"M18.56 5.44l.94 2.06.94-2.06 2.06-.94-2.06-.94-.94-2.06-.94 2.06-2.06.94zm-11 1L8.5 8.5l.94-2.06 2.06-.94-2.06-.94L8.5 2.5l-.94 2.06-2.06.94zm10 10l.94 2.06.94-2.06 2.06-.94-2.06-.94-.94-2.06-.94 2.06-2.06.94z\"/><path d=\"M17.41 7.96l-1.37-1.37c-.4-.4-.92-.59-1.43-.59-.52 0-1.04.2-1.43.59L10.3 9.45l-7.72 7.72c-.78.78-.78 2.05 0 2.83L4 21.41c.39.39.9.59 1.41.59.51 0 1.02-.2 1.41-.59l7.78-7.78 2.81-2.81c.8-.78.8-2.07 0-2.86zM5.41 20L4 18.59l7.72-7.72 1.47 1.35L5.41 20z\"/>\n",
              "  </svg>\n",
              "      </button>\n",
              "      \n",
              "  <style>\n",
              "    .colab-df-container {\n",
              "      display:flex;\n",
              "      flex-wrap:wrap;\n",
              "      gap: 12px;\n",
              "    }\n",
              "\n",
              "    .colab-df-convert {\n",
              "      background-color: #E8F0FE;\n",
              "      border: none;\n",
              "      border-radius: 50%;\n",
              "      cursor: pointer;\n",
              "      display: none;\n",
              "      fill: #1967D2;\n",
              "      height: 32px;\n",
              "      padding: 0 0 0 0;\n",
              "      width: 32px;\n",
              "    }\n",
              "\n",
              "    .colab-df-convert:hover {\n",
              "      background-color: #E2EBFA;\n",
              "      box-shadow: 0px 1px 2px rgba(60, 64, 67, 0.3), 0px 1px 3px 1px rgba(60, 64, 67, 0.15);\n",
              "      fill: #174EA6;\n",
              "    }\n",
              "\n",
              "    [theme=dark] .colab-df-convert {\n",
              "      background-color: #3B4455;\n",
              "      fill: #D2E3FC;\n",
              "    }\n",
              "\n",
              "    [theme=dark] .colab-df-convert:hover {\n",
              "      background-color: #434B5C;\n",
              "      box-shadow: 0px 1px 3px 1px rgba(0, 0, 0, 0.15);\n",
              "      filter: drop-shadow(0px 1px 2px rgba(0, 0, 0, 0.3));\n",
              "      fill: #FFFFFF;\n",
              "    }\n",
              "  </style>\n",
              "\n",
              "      <script>\n",
              "        const buttonEl =\n",
              "          document.querySelector('#df-8916e552-1fb1-4951-a26b-4bbb388d31d8 button.colab-df-convert');\n",
              "        buttonEl.style.display =\n",
              "          google.colab.kernel.accessAllowed ? 'block' : 'none';\n",
              "\n",
              "        async function convertToInteractive(key) {\n",
              "          const element = document.querySelector('#df-8916e552-1fb1-4951-a26b-4bbb388d31d8');\n",
              "          const dataTable =\n",
              "            await google.colab.kernel.invokeFunction('convertToInteractive',\n",
              "                                                     [key], {});\n",
              "          if (!dataTable) return;\n",
              "\n",
              "          const docLinkHtml = 'Like what you see? Visit the ' +\n",
              "            '<a target=\"_blank\" href=https://colab.research.google.com/notebooks/data_table.ipynb>data table notebook</a>'\n",
              "            + ' to learn more about interactive tables.';\n",
              "          element.innerHTML = '';\n",
              "          dataTable['output_type'] = 'display_data';\n",
              "          await google.colab.output.renderOutput(dataTable, element);\n",
              "          const docLink = document.createElement('div');\n",
              "          docLink.innerHTML = docLinkHtml;\n",
              "          element.appendChild(docLink);\n",
              "        }\n",
              "      </script>\n",
              "    </div>\n",
              "  </div>\n",
              "  "
            ]
          },
          "metadata": {},
          "execution_count": 93
        }
      ]
    },
    {
      "cell_type": "markdown",
      "source": [
        "# scores"
      ],
      "metadata": {
        "id": "0xzg5fxAfq1Q"
      }
    },
    {
      "cell_type": "code",
      "source": [
        "# scores_df = pd.read_csv('/content/scores_df.csv', index_col ='Unnamed: 0')\n",
        "# scores_df"
      ],
      "metadata": {
        "colab": {
          "base_uri": "https://localhost:8080/",
          "height": 300
        },
        "id": "W3VlD_SbdfTS",
        "outputId": "62af45c9-22f5-41ad-c801-4ad4979ce7ff"
      },
      "execution_count": 23,
      "outputs": [
        {
          "output_type": "execute_result",
          "data": {
            "text/plain": [
              "      precision    recall  f1_score  precision_over  recall_over  \\\n",
              "ABC    0.400000  0.000214  0.000428        0.296286     0.677157   \n",
              "LGBM   0.393939  0.001392  0.002773        0.326672     0.566902   \n",
              "XGBC   0.421594  0.017555  0.033707        0.327156     0.549882   \n",
              "KN     0.215354  0.057054  0.090209        0.179553     0.469064   \n",
              "MLP    0.280936  0.008992  0.017426        0.257583     0.722650   \n",
              "RF     0.338688  0.164740  0.221662        0.320385     0.435239   \n",
              "GB     0.500000  0.000321  0.000642        0.318740     0.621923   \n",
              "CAT    0.477099  0.026761  0.050679        0.329370     0.536716   \n",
              "\n",
              "      f1_score_over  precision_under  recall_under  f1_score_under  \n",
              "ABC        0.412211         0.276112      0.927317        0.425523  \n",
              "LGBM       0.414495         0.277072      0.934489        0.427417  \n",
              "XGBC       0.410238         0.278329      0.922608        0.427646  \n",
              "KN         0.259697         0.168555      0.619461        0.265003  \n",
              "MLP        0.379792         0.275838      0.210554        0.238815  \n",
              "RF         0.369083         0.278977      0.842218        0.419124  \n",
              "GB         0.421473         0.274594      0.937594        0.424782  \n",
              "CAT        0.408223         0.278783      0.925070        0.428447  "
            ],
            "text/html": [
              "\n",
              "  <div id=\"df-a82cfb33-218b-4941-b929-0c2ca23e1296\">\n",
              "    <div class=\"colab-df-container\">\n",
              "      <div>\n",
              "<style scoped>\n",
              "    .dataframe tbody tr th:only-of-type {\n",
              "        vertical-align: middle;\n",
              "    }\n",
              "\n",
              "    .dataframe tbody tr th {\n",
              "        vertical-align: top;\n",
              "    }\n",
              "\n",
              "    .dataframe thead th {\n",
              "        text-align: right;\n",
              "    }\n",
              "</style>\n",
              "<table border=\"1\" class=\"dataframe\">\n",
              "  <thead>\n",
              "    <tr style=\"text-align: right;\">\n",
              "      <th></th>\n",
              "      <th>precision</th>\n",
              "      <th>recall</th>\n",
              "      <th>f1_score</th>\n",
              "      <th>precision_over</th>\n",
              "      <th>recall_over</th>\n",
              "      <th>f1_score_over</th>\n",
              "      <th>precision_under</th>\n",
              "      <th>recall_under</th>\n",
              "      <th>f1_score_under</th>\n",
              "    </tr>\n",
              "  </thead>\n",
              "  <tbody>\n",
              "    <tr>\n",
              "      <th>ABC</th>\n",
              "      <td>0.400000</td>\n",
              "      <td>0.000214</td>\n",
              "      <td>0.000428</td>\n",
              "      <td>0.296286</td>\n",
              "      <td>0.677157</td>\n",
              "      <td>0.412211</td>\n",
              "      <td>0.276112</td>\n",
              "      <td>0.927317</td>\n",
              "      <td>0.425523</td>\n",
              "    </tr>\n",
              "    <tr>\n",
              "      <th>LGBM</th>\n",
              "      <td>0.393939</td>\n",
              "      <td>0.001392</td>\n",
              "      <td>0.002773</td>\n",
              "      <td>0.326672</td>\n",
              "      <td>0.566902</td>\n",
              "      <td>0.414495</td>\n",
              "      <td>0.277072</td>\n",
              "      <td>0.934489</td>\n",
              "      <td>0.427417</td>\n",
              "    </tr>\n",
              "    <tr>\n",
              "      <th>XGBC</th>\n",
              "      <td>0.421594</td>\n",
              "      <td>0.017555</td>\n",
              "      <td>0.033707</td>\n",
              "      <td>0.327156</td>\n",
              "      <td>0.549882</td>\n",
              "      <td>0.410238</td>\n",
              "      <td>0.278329</td>\n",
              "      <td>0.922608</td>\n",
              "      <td>0.427646</td>\n",
              "    </tr>\n",
              "    <tr>\n",
              "      <th>KN</th>\n",
              "      <td>0.215354</td>\n",
              "      <td>0.057054</td>\n",
              "      <td>0.090209</td>\n",
              "      <td>0.179553</td>\n",
              "      <td>0.469064</td>\n",
              "      <td>0.259697</td>\n",
              "      <td>0.168555</td>\n",
              "      <td>0.619461</td>\n",
              "      <td>0.265003</td>\n",
              "    </tr>\n",
              "    <tr>\n",
              "      <th>MLP</th>\n",
              "      <td>0.280936</td>\n",
              "      <td>0.008992</td>\n",
              "      <td>0.017426</td>\n",
              "      <td>0.257583</td>\n",
              "      <td>0.722650</td>\n",
              "      <td>0.379792</td>\n",
              "      <td>0.275838</td>\n",
              "      <td>0.210554</td>\n",
              "      <td>0.238815</td>\n",
              "    </tr>\n",
              "    <tr>\n",
              "      <th>RF</th>\n",
              "      <td>0.338688</td>\n",
              "      <td>0.164740</td>\n",
              "      <td>0.221662</td>\n",
              "      <td>0.320385</td>\n",
              "      <td>0.435239</td>\n",
              "      <td>0.369083</td>\n",
              "      <td>0.278977</td>\n",
              "      <td>0.842218</td>\n",
              "      <td>0.419124</td>\n",
              "    </tr>\n",
              "    <tr>\n",
              "      <th>GB</th>\n",
              "      <td>0.500000</td>\n",
              "      <td>0.000321</td>\n",
              "      <td>0.000642</td>\n",
              "      <td>0.318740</td>\n",
              "      <td>0.621923</td>\n",
              "      <td>0.421473</td>\n",
              "      <td>0.274594</td>\n",
              "      <td>0.937594</td>\n",
              "      <td>0.424782</td>\n",
              "    </tr>\n",
              "    <tr>\n",
              "      <th>CAT</th>\n",
              "      <td>0.477099</td>\n",
              "      <td>0.026761</td>\n",
              "      <td>0.050679</td>\n",
              "      <td>0.329370</td>\n",
              "      <td>0.536716</td>\n",
              "      <td>0.408223</td>\n",
              "      <td>0.278783</td>\n",
              "      <td>0.925070</td>\n",
              "      <td>0.428447</td>\n",
              "    </tr>\n",
              "  </tbody>\n",
              "</table>\n",
              "</div>\n",
              "      <button class=\"colab-df-convert\" onclick=\"convertToInteractive('df-a82cfb33-218b-4941-b929-0c2ca23e1296')\"\n",
              "              title=\"Convert this dataframe to an interactive table.\"\n",
              "              style=\"display:none;\">\n",
              "        \n",
              "  <svg xmlns=\"http://www.w3.org/2000/svg\" height=\"24px\"viewBox=\"0 0 24 24\"\n",
              "       width=\"24px\">\n",
              "    <path d=\"M0 0h24v24H0V0z\" fill=\"none\"/>\n",
              "    <path d=\"M18.56 5.44l.94 2.06.94-2.06 2.06-.94-2.06-.94-.94-2.06-.94 2.06-2.06.94zm-11 1L8.5 8.5l.94-2.06 2.06-.94-2.06-.94L8.5 2.5l-.94 2.06-2.06.94zm10 10l.94 2.06.94-2.06 2.06-.94-2.06-.94-.94-2.06-.94 2.06-2.06.94z\"/><path d=\"M17.41 7.96l-1.37-1.37c-.4-.4-.92-.59-1.43-.59-.52 0-1.04.2-1.43.59L10.3 9.45l-7.72 7.72c-.78.78-.78 2.05 0 2.83L4 21.41c.39.39.9.59 1.41.59.51 0 1.02-.2 1.41-.59l7.78-7.78 2.81-2.81c.8-.78.8-2.07 0-2.86zM5.41 20L4 18.59l7.72-7.72 1.47 1.35L5.41 20z\"/>\n",
              "  </svg>\n",
              "      </button>\n",
              "      \n",
              "  <style>\n",
              "    .colab-df-container {\n",
              "      display:flex;\n",
              "      flex-wrap:wrap;\n",
              "      gap: 12px;\n",
              "    }\n",
              "\n",
              "    .colab-df-convert {\n",
              "      background-color: #E8F0FE;\n",
              "      border: none;\n",
              "      border-radius: 50%;\n",
              "      cursor: pointer;\n",
              "      display: none;\n",
              "      fill: #1967D2;\n",
              "      height: 32px;\n",
              "      padding: 0 0 0 0;\n",
              "      width: 32px;\n",
              "    }\n",
              "\n",
              "    .colab-df-convert:hover {\n",
              "      background-color: #E2EBFA;\n",
              "      box-shadow: 0px 1px 2px rgba(60, 64, 67, 0.3), 0px 1px 3px 1px rgba(60, 64, 67, 0.15);\n",
              "      fill: #174EA6;\n",
              "    }\n",
              "\n",
              "    [theme=dark] .colab-df-convert {\n",
              "      background-color: #3B4455;\n",
              "      fill: #D2E3FC;\n",
              "    }\n",
              "\n",
              "    [theme=dark] .colab-df-convert:hover {\n",
              "      background-color: #434B5C;\n",
              "      box-shadow: 0px 1px 3px 1px rgba(0, 0, 0, 0.15);\n",
              "      filter: drop-shadow(0px 1px 2px rgba(0, 0, 0, 0.3));\n",
              "      fill: #FFFFFF;\n",
              "    }\n",
              "  </style>\n",
              "\n",
              "      <script>\n",
              "        const buttonEl =\n",
              "          document.querySelector('#df-a82cfb33-218b-4941-b929-0c2ca23e1296 button.colab-df-convert');\n",
              "        buttonEl.style.display =\n",
              "          google.colab.kernel.accessAllowed ? 'block' : 'none';\n",
              "\n",
              "        async function convertToInteractive(key) {\n",
              "          const element = document.querySelector('#df-a82cfb33-218b-4941-b929-0c2ca23e1296');\n",
              "          const dataTable =\n",
              "            await google.colab.kernel.invokeFunction('convertToInteractive',\n",
              "                                                     [key], {});\n",
              "          if (!dataTable) return;\n",
              "\n",
              "          const docLinkHtml = 'Like what you see? Visit the ' +\n",
              "            '<a target=\"_blank\" href=https://colab.research.google.com/notebooks/data_table.ipynb>data table notebook</a>'\n",
              "            + ' to learn more about interactive tables.';\n",
              "          element.innerHTML = '';\n",
              "          dataTable['output_type'] = 'display_data';\n",
              "          await google.colab.output.renderOutput(dataTable, element);\n",
              "          const docLink = document.createElement('div');\n",
              "          docLink.innerHTML = docLinkHtml;\n",
              "          element.appendChild(docLink);\n",
              "        }\n",
              "      </script>\n",
              "    </div>\n",
              "  </div>\n",
              "  "
            ]
          },
          "metadata": {},
          "execution_count": 23
        }
      ]
    },
    {
      "cell_type": "code",
      "source": [
        "precisions = scores_df[['precision', 'precision_over', 'precision_under']]\n",
        "recalls = scores_df[['recall', 'recall_over', 'recall_under']]\n",
        "f1_scores = scores_df[['f1_score', 'f1_score_over', 'f1_score_under']]"
      ],
      "metadata": {
        "id": "RHtNz7H-fokC"
      },
      "execution_count": null,
      "outputs": []
    },
    {
      "cell_type": "markdown",
      "source": [
        "# cv"
      ],
      "metadata": {
        "id": "ydjePzPuK53r"
      }
    },
    {
      "cell_type": "markdown",
      "source": [
        "### grid cv"
      ],
      "metadata": {
        "id": "bzneBS49zJJz"
      }
    },
    {
      "cell_type": "code",
      "source": [
        "hps = [\n",
        "    (\n",
        "        RandomForestClassifier(random_state=0),\n",
        "        {'n_estimators': [100,200,300],\n",
        "         'max_depth': [None,3,4,5],}\n",
        "    ),\n",
        "    (\n",
        "        GradientBoostingClassifier(random_state=0),\n",
        "        {'loss' : [\"deviance\"],\n",
        "         'n_estimators' : [100],\n",
        "         'learning_rate': [0.1, 0.05, 0.01],\n",
        "         'max_depth': [4],\n",
        "         'min_samples_leaf': [100,150],\n",
        "         'max_features': [0.3, 0.1]}\n",
        "    ),\n",
        "    (\n",
        "        LGBMClassifier(random_state=0),\n",
        "        {'n_estimators': [100, 200, 300],\n",
        "         'learning_rate': [1, 0.1, 0.01],\n",
        "          'max_depth': [None,3,4,5]}\n",
        "    )\n",
        "]\n",
        "\n",
        "for hp, param_grid in tqdm(hps):\n",
        "    rand_search = GridSearchCV(hp, param_grid, n_iter=5, scoring='roc_auc', \n",
        "                                     cv=3, random_state=0, n_jobs=-1)\n",
        "    rand_search.fit(X_under, y_under)\n",
        "    hp_name = type(hp).__name__\n",
        "    hp_score = rand_search.score(X_test, y_test)\n",
        "    print('최적 하이퍼 파라미터: ', rand_search.best_params_)\n",
        "    print('최고 예측 정확도: {:.4f}'.format(rand_search.best_score_))"
      ],
      "metadata": {
        "id": "r2pTZY2E2YVE"
      },
      "execution_count": null,
      "outputs": []
    },
    {
      "cell_type": "markdown",
      "source": [
        "### random cv"
      ],
      "metadata": {
        "id": "M427Y5_0zRTW"
      }
    },
    {
      "cell_type": "code",
      "source": [
        "hps = [\n",
        "    (\n",
        "        XGBClassifier(random_state=0),\n",
        "        {'min_child_weight' : [1, 3, 5],\n",
        "         'n_estimators' : [250, 300, 350],\n",
        "         'learning_rate': [1, 0.1, 0.01],\n",
        "         'max_depth': [None,3,4,5],\n",
        "         'reg_alpha': [0, 0.01, 0.001]}\n",
        "    ),\n",
        "    (\n",
        "        cb.CatBoostClassifier(random_state=0),\n",
        "        {\n",
        "         'learning_rate': [0.1, 0.2, 0.3],\n",
        "         'max_depth': [5, 7, 9],\n",
        "         'l2_leaf_reg': [1, 3, 5, 7, 9],\n",
        "         'random_strength': [1, 10, 100]}\n",
        "    ),\n",
        "    (\n",
        "        LGBMClassifier(random_state=0),\n",
        "        {'n_estimators': [100, 200, 300],\n",
        "         'learning_rate': [1, 0.1, 0.01],\n",
        "          'max_depth': [None,3,4,5]}\n",
        "    )\n",
        "     \n",
        "]\n",
        "for hp, param_grid in tqdm(hps):\n",
        "    rand_search = RandomizedSearchCV(hp, param_grid, n_iter=5, scoring='roc_auc', \n",
        "                                     cv=3, random_state=0, n_jobs=-1)\n",
        "    rand_search.fit(X_under, y_under)\n",
        "    hp_name = type(hp).__name__\n",
        "    hp_score = rand_search.score(X_test, y_test)\n",
        "    print('최적 하이퍼 파라미터: ', rand_search.best_params_)\n",
        "    print('최고 예측 정확도: {:.4f}'.format(rand_search.best_score_))"
      ],
      "metadata": {
        "id": "aYbc0CUNw_R7"
      },
      "execution_count": null,
      "outputs": []
    },
    {
      "cell_type": "code",
      "source": [
        "# 최적 하이퍼 파라미터:  {'reg_alpha': 0.001, 'n_estimators': 300, 'min_child_weight': 1, 'max_depth': 3, 'learning_rate': 0.1}\n",
        "rand_XGBC_under = XGBClassifier(reg_alpha=0.001, n_estimators=300, min_child_weight=1, max_depth=3, learning_rate=0.1, random_state=42)\n",
        "rand_XGBC_under.fit(X_under, y_under)\n",
        "\n",
        "# ▶ 예측\n",
        "rand_XGBC_under_y_pred_train = rand_XGBC_under.predict(X_under)\n",
        "rand_XGBC_under_y_pred_test = rand_XGBC_under.predict(X_test)"
      ],
      "metadata": {
        "id": "36p5pR4fzZtO"
      },
      "execution_count": null,
      "outputs": []
    },
    {
      "cell_type": "code",
      "source": [
        "# 최적 하이퍼 파라미터:  {'random_strength': 100, 'max_depth': 5, 'learning_rate': 0.1, 'l2_leaf_reg': 7}\n",
        "rand_CAT_under = cb.CatBoostClassifier(random_strength=100, max_depth=5, learning_rate=0.1, l2_leaf_reg=7, random_state=42)\n",
        "rand_CAT_under.fit(CAT_under_data)\n",
        "\n",
        "# ▶ 예측\n",
        "rand_CAT_under_y_pred_train = rand_CAT_under.predict(X_under)\n",
        "rand_CAT_under_y_pred_test = rand_CAT_under.predict(X_test)"
      ],
      "metadata": {
        "id": "O_4nZ0KbzZtO"
      },
      "execution_count": null,
      "outputs": []
    },
    {
      "cell_type": "code",
      "source": [
        "# 최적 하이퍼 파라미터:  {'n_estimators': 200, 'max_depth': 3, 'learning_rate': 0.1}\n",
        "rand_LGBM = LGBMClassifier(n_estimators=200, max_depth=3, learning_rate=0.1, random_state=42)\n",
        "rand_LGBM.fit(X_under, y_under)\n",
        "\n",
        "# ▶ 예측\n",
        "rand_LGBM_y_pred_train = rand_LGBM.predict(X_under)\n",
        "rand_LGBM_y_pred_test = rand_LGBM.predict(X_test)"
      ],
      "metadata": {
        "id": "vH5SIENO3T_L"
      },
      "execution_count": null,
      "outputs": []
    },
    {
      "cell_type": "markdown",
      "source": [
        "# 모델 고르기\n",
        "\n",
        "만들어 둔 모델들의 precision\trecall\tf1_score 값을 비교하여 각각 가장 높은 성능을 보이는 모델을 선택 "
      ],
      "metadata": {
        "id": "HJP8qMZDzbPD"
      }
    },
    {
      "cell_type": "code",
      "source": [
        "precision_hp = [\n",
        "             precision_score(y_test, rand_XGBC_under_y_pred_test, pos_label=1),\n",
        "             precision_score(y_test, rand_CAT_under_y_pred_test, pos_label=1),\n",
        "             precision_score(y_test, rand_LGBM_y_pred_test, pos_label=1)]\n",
        "recall_hp = [\n",
        "             recall_score(y_test, rand_XGBC_under_y_pred_test, pos_label=1),\n",
        "             recall_score(y_test, rand_CAT_under_y_pred_test, pos_label=1),\n",
        "             recall_score(y_test, rand_LGBM_y_pred_test, pos_label=1)]\n",
        "f1_score_hp = [\n",
        "             f1_score(y_test, rand_XGBC_under_y_pred_test, pos_label=1),\n",
        "             f1_score(y_test, rand_CAT_under_y_pred_test, pos_label=1),\n",
        "             f1_score(y_test, rand_LGBM_y_pred_test, pos_label=1)]"
      ],
      "metadata": {
        "colab": {
          "base_uri": "https://localhost:8080/"
        },
        "id": "h3DWNLxJ0mfF",
        "outputId": "ba4f7fa5-a03d-41b9-8e8f-ae9087091a71"
      },
      "execution_count": 24,
      "outputs": [
        {
          "output_type": "stream",
          "name": "stdout",
          "text": [
            "              precision    recall  f1-score   support\n",
            "\n",
            "           0       0.99      0.66      0.79     66880\n",
            "           1       0.28      0.93      0.43      9342\n",
            "\n",
            "    accuracy                           0.70     76222\n",
            "   macro avg       0.63      0.80      0.61     76222\n",
            "weighted avg       0.90      0.70      0.75     76222\n",
            "\n"
          ]
        }
      ]
    },
    {
      "cell_type": "code",
      "source": [
        "hp_score_df = pd.DataFrame([precision_hp, recall_hp, f1_score_hp], \n",
        "                        columns=['rand_XGBC', 'rand_CAT', 'rand_LGBM'],\n",
        "                        index=['precision', 'recall', 'f1_score'])"
      ],
      "metadata": {
        "id": "UG_lZY1U-3jy"
      },
      "execution_count": null,
      "outputs": []
    },
    {
      "cell_type": "code",
      "source": [
        "fig, ax = plt.subplots(figsize=(15,5))\n",
        "sns.lineplot(data = hp_score_df, markers=True).set(title='precision_hp, recall_hp, f1_score_hp');\n",
        "plt.savefig('hp_score_df')"
      ],
      "metadata": {
        "id": "SPULSueq-5e2"
      },
      "execution_count": null,
      "outputs": []
    },
    {
      "cell_type": "markdown",
      "source": [
        "# feature importances"
      ],
      "metadata": {
        "id": "43p-qiHf5Y8f"
      }
    },
    {
      "cell_type": "code",
      "source": [
        "ftr_importances_values = rand_XGBC_under.feature_importances_\n",
        "ftr_importances = pd.Series(ftr_importances_values, index = X_under.columns)\n",
        "ftr_top5 = ftr_importances.sort_values(ascending=False)[:5]\n",
        "\n",
        "plt.figure(figsize=(8,6))\n",
        "plt.title('rand_XGBC model Feature Importances')\n",
        "sns.barplot(x=ftr_top5, y=ftr_top5.index, palette=\"pastel\")\n",
        "plt.rc('xtick', labelsize=5)\n"
      ],
      "metadata": {
        "id": "U6bKKJGd3l8Z"
      },
      "execution_count": null,
      "outputs": []
    },
    {
      "cell_type": "code",
      "source": [
        "ftr_importances_values = rand_CAT_under.feature_importances_\n",
        "ftr_importances = pd.Series(ftr_importances_values, index = X_under.columns)\n",
        "ftr_top5 = ftr_importances.sort_values(ascending=False)[:5]\n",
        "\n",
        "plt.figure(figsize=(10,5))\n",
        "plt.title('rand_CAT_under model Feature Importances')\n",
        "sns.barplot(x=ftr_top5, y=ftr_top5.index, palette=\"pastel\")\n",
        "plt.rc('xtick', labelsize=5)\n",
        "plt.show()"
      ],
      "metadata": {
        "id": "qsMPpfAJ40CQ"
      },
      "execution_count": null,
      "outputs": []
    },
    {
      "cell_type": "code",
      "source": [
        "ftr_importances_values = rand_LGBM.feature_importances_\n",
        "ftr_importances = pd.Series(ftr_importances_values, index = X_under.columns)\n",
        "ftr_top5 = ftr_importances.sort_values(ascending=False)[:5]\n",
        "\n",
        "plt.figure(figsize=(8,6))\n",
        "plt.title('rand_LGBM model Feature Importances')\n",
        "sns.barplot(x=ftr_top5, y=ftr_top5.index, palette=\"pastel\")\n",
        "plt.rc('xtick', labelsize=5)\n",
        "plt.show()"
      ],
      "metadata": {
        "id": "_sx7GyYt40jq"
      },
      "execution_count": null,
      "outputs": []
    },
    {
      "cell_type": "markdown",
      "source": [
        "# 성능높이기"
      ],
      "metadata": {
        "id": "VhUmTwhuA-oD"
      }
    },
    {
      "cell_type": "markdown",
      "source": [
        "## 스케일링\n",
        "\n",
        "하지 않은 데이터와 큰 차이 없음 \n",
        "\n"
      ],
      "metadata": {
        "id": "Z8ewmg70CD2J"
      }
    },
    {
      "cell_type": "code",
      "source": [
        "#스탠다드 스케일러\n",
        "from sklearn.preprocessing import StandardScaler\n",
        "\n",
        "X_scaler = StandardScaler()\n",
        "scaled_X_train = X_scaler.fit_transform(X_under)\n",
        "scaled_X_test = X_scaler.transform(X_test)\n",
        "print(scaled_X_train.shape)\n",
        "print(scaled_X_test.shape)"
      ],
      "metadata": {
        "id": "fLZ_N-F7A-FC"
      },
      "execution_count": null,
      "outputs": []
    },
    {
      "cell_type": "code",
      "source": [
        "scaled_hy_RF = RandomForestClassifier(max_depth=5, n_estimators=300)\n",
        "scaled_hy_RF.fit(scaled_X_train, y_under)\n",
        "\n",
        "# ▶ 예측\n",
        "scaled_hy_RF_y_pred_train = scaled_hy_RF.predict(scaled_X_train)\n",
        "scaled_hy_RF_y_pred_test = scaled_hy_RF.predict(scaled_X_test)\n",
        "\n",
        "print(classification_report(y_under, hy_RF_y_pred_train))\n",
        "print(classification_report(y_test, hy_RF_y_pred_test))"
      ],
      "metadata": {
        "id": "Brp_OeOEBDgI"
      },
      "execution_count": null,
      "outputs": []
    },
    {
      "cell_type": "code",
      "source": [
        "print(recall_score(y_test, scaled_hy_RF_y_pred_test, pos_label=1))"
      ],
      "metadata": {
        "id": "0LwJzPq9BFbi"
      },
      "execution_count": null,
      "outputs": []
    },
    {
      "cell_type": "code",
      "source": [
        "print(precision_score(y_test, scaled_hy_RF_y_pred_test, pos_label=1))"
      ],
      "metadata": {
        "id": "yfguGGZIJprP"
      },
      "execution_count": null,
      "outputs": []
    },
    {
      "cell_type": "code",
      "source": [
        "print(f1_score(y_test, scaled_hy_RF_y_pred_test, pos_label=1))"
      ],
      "metadata": {
        "id": "_77F8s0bJsu4"
      },
      "execution_count": null,
      "outputs": []
    },
    {
      "cell_type": "code",
      "source": [
        "ftr_importances_values = scaled_hy_RF.feature_importances_\n",
        "ftr_importances = pd.Series(ftr_importances_values, index = X_under.columns)\n",
        "ftr_top10 = ftr_importances.sort_values(ascending=False)[:10]\n",
        "\n",
        "plt.figure(figsize=(8,6))\n",
        "plt.title('scaled_hy_RF model Feature Importances')\n",
        "sns.barplot(x=ftr_top10, y=ftr_top10.index, palette=\"pastel\")\n",
        "plt.rc('xtick', labelsize=5)\n",
        "plt.show()"
      ],
      "metadata": {
        "id": "frUn-iSLBs0x"
      },
      "execution_count": null,
      "outputs": []
    }
  ]
}